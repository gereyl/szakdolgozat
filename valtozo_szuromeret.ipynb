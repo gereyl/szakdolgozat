{
  "cells": [
    {
      "cell_type": "code",
      "execution_count": null,
      "metadata": {
        "id": "EFD67G9z2bQh"
      },
      "outputs": [],
      "source": [
        "import os\n",
        "import cv2\n",
        "from google.colab.patches import cv2_imshow\n",
        "import os\n",
        "import sys\n",
        "import random\n",
        "import warnings\n",
        "\n",
        "import numpy as np\n",
        "\n",
        "import matplotlib.pyplot as plt\n",
        "\n",
        "from tqdm import tqdm\n",
        "\n",
        "import tensorflow as tf\n",
        "\n",
        "import tensorflow as tf\n",
        "import cv2\n",
        "import numpy\n",
        "import gc\n",
        "import keras\n",
        "\n",
        "import matplotlib.pyplot as plt\n",
        "\n",
        "import tensorflow as tf\n",
        "import math\n",
        "\n",
        "tfk = tf.keras\n",
        "tfkl = tfk.layers\n",
        "tfm = tf.math\n",
        "tfkc = tfk.callbacks"
      ]
    },
    {
      "cell_type": "code",
      "execution_count": null,
      "metadata": {
        "colab": {
          "base_uri": "https://localhost:8080/"
        },
        "id": "54YVJrlfaJGV",
        "outputId": "eda837f2-8fbd-4b48-b554-ee1e48b4dd39"
      },
      "outputs": [
        {
          "output_type": "stream",
          "name": "stdout",
          "text": [
            "Mounted at /content/drive\n"
          ]
        }
      ],
      "source": [
        "from google.colab import drive\n",
        "\n",
        "drive.mount('/content/drive')\n"
      ]
    },
    {
      "cell_type": "code",
      "execution_count": null,
      "metadata": {
        "id": "-kakALZAfXL2"
      },
      "outputs": [],
      "source": [
        "from tensorflow.keras.layers import Input, Conv2D, MaxPooling2D, Dropout, UpSampling2D, concatenate, Resizing\n",
        "import tensorflow as tf\n",
        "\n",
        "def unet_v2(input_size=(538, 701, 3), resize_to=(256, 256)):\n",
        "    \"\"\"\n",
        "    U-Net modell változó szűrőméretekkel.\n",
        "    \"\"\"\n",
        "    inputs = Input(input_size)\n",
        "    resized_inputs = Resizing(*resize_to)(inputs)\n",
        "\n",
        "    # Encoder rész\n",
        "    conv1 = Conv2D(16, (3, 3), activation='relu', padding='same')(resized_inputs)\n",
        "    conv1 = Conv2D(16, (5, 5), activation='relu', padding='same')(conv1)\n",
        "    pool1 = MaxPooling2D(pool_size=(2, 2))(conv1)\n",
        "\n",
        "    conv2 = Conv2D(32, (3, 3), activation='relu', padding='same')(pool1)\n",
        "    conv2 = Conv2D(32, (5, 5), activation='relu', padding='same')(conv2)\n",
        "    pool2 = MaxPooling2D(pool_size=(2, 2))(conv2)\n",
        "\n",
        "    conv3 = Conv2D(64, (3, 3), activation='relu', padding='same')(pool2)\n",
        "    conv3 = Conv2D(64, (7, 7), activation='relu', padding='same')(conv3)\n",
        "    pool3 = MaxPooling2D(pool_size=(2, 2))(conv3)\n",
        "\n",
        "    conv4 = Conv2D(128, (5, 5), activation='relu', padding='same')(pool3)\n",
        "    conv4 = Conv2D(128, (7, 7), activation='relu', padding='same')(conv4)\n",
        "    drop4 = Dropout(0.5)(conv4)\n",
        "    pool4 = MaxPooling2D(pool_size=(2, 2))(drop4)\n",
        "\n",
        "    # Middle rész\n",
        "    conv5 = Conv2D(256, (5, 5), activation='relu', padding='same')(pool4)\n",
        "    conv5 = Conv2D(256, (7, 7), activation='relu', padding='same')(conv5)\n",
        "    drop5 = Dropout(0.5)(conv5)\n",
        "\n",
        "    # Decoder rész\n",
        "    up6 = UpSampling2D(size=(2, 2))(drop5)\n",
        "    up6 = concatenate([up6, conv4], axis=3)\n",
        "    conv6 = Conv2D(128, (7, 7), activation='relu', padding='same')(up6)\n",
        "    conv6 = Conv2D(128, (5, 5), activation='relu', padding='same')(conv6)\n",
        "\n",
        "    up7 = UpSampling2D(size=(2, 2))(conv6)\n",
        "    up7 = concatenate([up7, conv3], axis=3)\n",
        "    conv7 = Conv2D(64, (5, 5), activation='relu', padding='same')(up7)\n",
        "    conv7 = Conv2D(64, (3, 3), activation='relu', padding='same')(conv7)\n",
        "\n",
        "    up8 = UpSampling2D(size=(2, 2))(conv7)\n",
        "    up8 = concatenate([up8, conv2], axis=3)\n",
        "    conv8 = Conv2D(32, (3, 3), activation='relu', padding='same')(up8)\n",
        "    conv8 = Conv2D(32, (5, 5), activation='relu', padding='same')(conv8)\n",
        "\n",
        "    up9 = UpSampling2D(size=(2, 2))(conv8)\n",
        "    up9 = concatenate([up9, conv1], axis=3)\n",
        "    conv9 = Conv2D(16, (3, 3), activation='relu', padding='same')(up9)\n",
        "    conv9 = Conv2D(16, (3, 3), activation='relu', padding='same')(conv9)\n",
        "\n",
        "    outputs = Conv2D(2, (1, 1), activation=\"softmax\", padding=\"same\")(conv9)\n",
        "    resized_outputs = Resizing(input_size[0], input_size[1])(outputs)\n",
        "\n",
        "    model = tf.keras.Model(inputs=inputs, outputs=resized_outputs)\n",
        "    model.compile(optimizer='adam', loss='categorical_crossentropy', metrics=['accuracy'])\n",
        "\n",
        "    return model\n",
        "\n",
        "# Modell összeállítása\n",
        "model = unet_v2()\n",
        "\n",
        "# Modell összefoglaló\n",
        "# model_v2.summary()\n",
        "\n"
      ]
    },
    {
      "cell_type": "code",
      "execution_count": null,
      "metadata": {
        "id": "S9G-noeTmiue"
      },
      "outputs": [],
      "source": [
        "import glob\n",
        "\n",
        "def data_generator_multiple_files(image_pattern, mask_pattern, batch_size):\n",
        "    \"\"\"\n",
        "    Generátor több batch fájlból történő betöltéshez.\n",
        "\n",
        "    Args:\n",
        "        image_pattern (str): A képfájlok mintája (pl. 'train_images_batch_*.npy').\n",
        "        mask_pattern (str): A maszkfájlok mintája (pl. 'train_masks_batch_*.npy').\n",
        "        batch_size (int): A batch méret.\n",
        "\n",
        "    Yields:\n",
        "        tuple: (képek batch, maszkok batch)\n",
        "    \"\"\"\n",
        "    # Batch fájlok betöltése sorrendben\n",
        "    image_files = sorted(glob.glob(image_pattern), key=lambda x: int(x.split('_')[-1].split('.')[0]))\n",
        "    mask_files = sorted(glob.glob(mask_pattern), key=lambda x: int(x.split('_')[-1].split('.')[0]))\n",
        "\n",
        "    if len(image_files) != len(mask_files):\n",
        "        raise ValueError(\"A képfájlok és maszkfájlok száma nem egyezik meg.\")\n",
        "\n",
        "    while True:  # Végtelen generátor\n",
        "        for image_file, mask_file in zip(image_files, mask_files):\n",
        "            # Fájlok betöltése\n",
        "            images = np.load(image_file, allow_pickle=False)\n",
        "            masks = np.load(mask_file, allow_pickle=False)\n",
        "\n",
        "            # Batch-ekre bontás\n",
        "            for i in range(0, len(images), batch_size):\n",
        "                image_batch = images[i:i + batch_size]\n",
        "                mask_batch = masks[i:i + batch_size]\n",
        "                yield image_batch, mask_batch\n"
      ]
    },
    {
      "cell_type": "code",
      "execution_count": null,
      "metadata": {
        "id": "I-6XyVaTmipc"
      },
      "outputs": [],
      "source": [
        "# Adatfájlok mintázata\n",
        "train_images_pattern = \"/content/drive/MyDrive/szakdoga/train_images_batch_*.npy\"\n",
        "train_masks_pattern = \"/content/drive/MyDrive/szakdoga/train_masks_batch_*.npy\"\n",
        "test_images_pattern = \"/content/drive/MyDrive/szakdoga/test_images_batch_*.npy\"\n",
        "test_masks_pattern = \"/content/drive/MyDrive/szakdoga/test_masks_batch_*.npy\"\n",
        "\n",
        "# Adatgenerátorok inicializálása\n",
        "train_gen = data_generator_multiple_files(train_images_pattern, train_masks_pattern, batch_size=16)\n",
        "test_gen = data_generator_multiple_files(test_images_pattern, test_masks_pattern, batch_size=16)\n",
        "\n",
        "from tensorflow.keras.callbacks import ModelCheckpoint\n",
        "\n",
        "checkpoint = ModelCheckpoint(\n",
        "    filepath=\"/content/drive/MyDrive/szakdoga/modellek/valtozo_szuroszam.keras\",  # Ez határozza meg az elérési utat és fájlnevet\n",
        "    monitor=\"val_loss\",\n",
        "    verbose=1,\n",
        "    save_best_only=True,\n",
        "    save_weights_only=False,\n",
        "    mode=\"min\"\n",
        ")\n",
        "\n",
        "from tensorflow.keras.callbacks import EarlyStopping\n",
        "\n",
        "# Early stopping callback inicializálása\n",
        "early_stopping = EarlyStopping(\n",
        "    monitor='val_loss',  # Mit figyeljünk (pl. validation loss)\n",
        "    patience=3,          # Hány epoch után álljon meg, ha nincs javulás\n",
        "    restore_best_weights=True  # Állítsa vissza a legjobb súlyokat\n",
        ")\n",
        "\n",
        "\n",
        "\n",
        "# Train és validation adatok méretének statikus meghatározása\n",
        "train_size = 3264  # Az összes train adat száma\n",
        "val_size = 800     # Az összes validation adat száma\n",
        "\n",
        "# Train és validation adatok méretének meghatározása\n",
        "#train_size = sum(len(np.load(f, allow_pickle=False)) for f in glob.glob(train_images_pattern))\n",
        "#val_size = sum(len(np.load(f, allow_pickle=False)) for f in glob.glob(test_images_pattern))\n"
      ]
    },
    {
      "cell_type": "code",
      "execution_count": null,
      "metadata": {
        "colab": {
          "base_uri": "https://localhost:8080/"
        },
        "id": "R5Jrz-efbluf",
        "outputId": "e39342e3-57c9-4e14-f0d1-b39b256761dc"
      },
      "outputs": [
        {
          "name": "stdout",
          "output_type": "stream",
          "text": [
            "(25, 538, 701, 2)\n"
          ]
        }
      ],
      "source": [
        "import numpy as np\n",
        "import glob\n",
        "\n",
        "# Ellenőrizz egy fájlt\n",
        "test_file = \"/content/drive/MyDrive/szakdoga/train_masks_batch_0.npy\"\n",
        "data = np.load(test_file, allow_pickle=False)\n",
        "print(data.shape)\n"
      ]
    },
    {
      "cell_type": "code",
      "execution_count": null,
      "metadata": {
        "colab": {
          "base_uri": "https://localhost:8080/"
        },
        "id": "qqO35y-UmijB",
        "outputId": "9c3f6871-2c6e-4d0a-e477-ad3b291ac8f9"
      },
      "outputs": [
        {
          "output_type": "stream",
          "name": "stdout",
          "text": [
            "Epoch 1/10\n",
            "\u001b[1m102/102\u001b[0m \u001b[32m━━━━━━━━━━━━━━━━━━━━\u001b[0m\u001b[37m\u001b[0m \u001b[1m0s\u001b[0m 24s/step - accuracy: 0.8124 - loss: 0.9156 \n",
            "Epoch 1: val_loss improved from inf to 0.11058, saving model to /content/drive/MyDrive/szakdoga/modellek/valtozo_szuroszam.keras\n",
            "\u001b[1m102/102\u001b[0m \u001b[32m━━━━━━━━━━━━━━━━━━━━\u001b[0m\u001b[37m\u001b[0m \u001b[1m2519s\u001b[0m 25s/step - accuracy: 0.8132 - loss: 0.9104 - val_accuracy: 0.9588 - val_loss: 0.1106\n",
            "Epoch 2/10\n",
            "\u001b[1m102/102\u001b[0m \u001b[32m━━━━━━━━━━━━━━━━━━━━\u001b[0m\u001b[37m\u001b[0m \u001b[1m0s\u001b[0m 24s/step - accuracy: 0.9719 - loss: 0.0818 \n",
            "Epoch 2: val_loss improved from 0.11058 to 0.04747, saving model to /content/drive/MyDrive/szakdoga/modellek/valtozo_szuroszam.keras\n",
            "\u001b[1m102/102\u001b[0m \u001b[32m━━━━━━━━━━━━━━━━━━━━\u001b[0m\u001b[37m\u001b[0m \u001b[1m2532s\u001b[0m 25s/step - accuracy: 0.9720 - loss: 0.0816 - val_accuracy: 0.9814 - val_loss: 0.0475\n",
            "Epoch 3/10\n",
            "\u001b[1m102/102\u001b[0m \u001b[32m━━━━━━━━━━━━━━━━━━━━\u001b[0m\u001b[37m\u001b[0m \u001b[1m0s\u001b[0m 24s/step - accuracy: 0.9862 - loss: 0.0365 \n",
            "Epoch 3: val_loss improved from 0.04747 to 0.02355, saving model to /content/drive/MyDrive/szakdoga/modellek/valtozo_szuroszam.keras\n",
            "\u001b[1m102/102\u001b[0m \u001b[32m━━━━━━━━━━━━━━━━━━━━\u001b[0m\u001b[37m\u001b[0m \u001b[1m2555s\u001b[0m 25s/step - accuracy: 0.9862 - loss: 0.0365 - val_accuracy: 0.9907 - val_loss: 0.0235\n",
            "Epoch 4/10\n",
            "\u001b[1m102/102\u001b[0m \u001b[32m━━━━━━━━━━━━━━━━━━━━\u001b[0m\u001b[37m\u001b[0m \u001b[1m0s\u001b[0m 24s/step - accuracy: 0.9912 - loss: 0.0226 \n",
            "Epoch 4: val_loss improved from 0.02355 to 0.01656, saving model to /content/drive/MyDrive/szakdoga/modellek/valtozo_szuroszam.keras\n",
            "\u001b[1m102/102\u001b[0m \u001b[32m━━━━━━━━━━━━━━━━━━━━\u001b[0m\u001b[37m\u001b[0m \u001b[1m2548s\u001b[0m 25s/step - accuracy: 0.9912 - loss: 0.0226 - val_accuracy: 0.9934 - val_loss: 0.0166\n",
            "Epoch 5/10\n",
            "\u001b[1m102/102\u001b[0m \u001b[32m━━━━━━━━━━━━━━━━━━━━\u001b[0m\u001b[37m\u001b[0m \u001b[1m0s\u001b[0m 24s/step - accuracy: 0.9915 - loss: 0.0224 \n",
            "Epoch 5: val_loss did not improve from 0.01656\n",
            "\u001b[1m102/102\u001b[0m \u001b[32m━━━━━━━━━━━━━━━━━━━━\u001b[0m\u001b[37m\u001b[0m \u001b[1m2517s\u001b[0m 25s/step - accuracy: 0.9915 - loss: 0.0224 - val_accuracy: 0.9930 - val_loss: 0.0177\n",
            "Epoch 6/10\n",
            "\u001b[1m102/102\u001b[0m \u001b[32m━━━━━━━━━━━━━━━━━━━━\u001b[0m\u001b[37m\u001b[0m \u001b[1m0s\u001b[0m 24s/step - accuracy: 0.9934 - loss: 0.0165 \n",
            "Epoch 6: val_loss improved from 0.01656 to 0.01582, saving model to /content/drive/MyDrive/szakdoga/modellek/valtozo_szuroszam.keras\n",
            "\u001b[1m102/102\u001b[0m \u001b[32m━━━━━━━━━━━━━━━━━━━━\u001b[0m\u001b[37m\u001b[0m \u001b[1m2589s\u001b[0m 25s/step - accuracy: 0.9934 - loss: 0.0165 - val_accuracy: 0.9936 - val_loss: 0.0158\n",
            "Epoch 7/10\n",
            "\u001b[1m102/102\u001b[0m \u001b[32m━━━━━━━━━━━━━━━━━━━━\u001b[0m\u001b[37m\u001b[0m \u001b[1m0s\u001b[0m 24s/step - accuracy: 0.9941 - loss: 0.0147 \n",
            "Epoch 7: val_loss improved from 0.01582 to 0.01521, saving model to /content/drive/MyDrive/szakdoga/modellek/valtozo_szuroszam.keras\n",
            "\u001b[1m102/102\u001b[0m \u001b[32m━━━━━━━━━━━━━━━━━━━━\u001b[0m\u001b[37m\u001b[0m \u001b[1m2591s\u001b[0m 25s/step - accuracy: 0.9941 - loss: 0.0147 - val_accuracy: 0.9939 - val_loss: 0.0152\n",
            "Epoch 8/10\n",
            "\u001b[1m102/102\u001b[0m \u001b[32m━━━━━━━━━━━━━━━━━━━━\u001b[0m\u001b[37m\u001b[0m \u001b[1m0s\u001b[0m 24s/step - accuracy: 0.9938 - loss: 0.0156 \n",
            "Epoch 8: val_loss improved from 0.01521 to 0.01407, saving model to /content/drive/MyDrive/szakdoga/modellek/valtozo_szuroszam.keras\n",
            "\u001b[1m102/102\u001b[0m \u001b[32m━━━━━━━━━━━━━━━━━━━━\u001b[0m\u001b[37m\u001b[0m \u001b[1m2565s\u001b[0m 25s/step - accuracy: 0.9938 - loss: 0.0156 - val_accuracy: 0.9943 - val_loss: 0.0141\n",
            "Epoch 9/10\n",
            "\u001b[1m102/102\u001b[0m \u001b[32m━━━━━━━━━━━━━━━━━━━━\u001b[0m\u001b[37m\u001b[0m \u001b[1m0s\u001b[0m 24s/step - accuracy: 0.9946 - loss: 0.0132 \n",
            "Epoch 9: val_loss improved from 0.01407 to 0.01187, saving model to /content/drive/MyDrive/szakdoga/modellek/valtozo_szuroszam.keras\n",
            "\u001b[1m102/102\u001b[0m \u001b[32m━━━━━━━━━━━━━━━━━━━━\u001b[0m\u001b[37m\u001b[0m \u001b[1m2571s\u001b[0m 25s/step - accuracy: 0.9946 - loss: 0.0132 - val_accuracy: 0.9951 - val_loss: 0.0119\n",
            "Epoch 10/10\n",
            "\u001b[1m 84/102\u001b[0m \u001b[32m━━━━━━━━━━━━━━━━\u001b[0m\u001b[37m━━━━\u001b[0m \u001b[1m7:20\u001b[0m 24s/step - accuracy: 0.9951 - loss: 0.0121"
          ]
        }
      ],
      "source": [
        "# Tanítás\n",
        "history = model.fit(\n",
        "    train_gen,\n",
        "    steps_per_epoch=train_size // 32,  # Batch-ek száma epochonként\n",
        "    validation_data=test_gen,\n",
        "    validation_steps=val_size // 32,  # Validation batch-ek száma\n",
        "    epochs=10,  # Maximum epochok száma\n",
        "    callbacks=[checkpoint, early_stopping],\n",
        "    verbose=1\n",
        ")\n"
      ]
    },
    {
      "cell_type": "code",
      "execution_count": null,
      "metadata": {
        "id": "eRqXIgO33w0y",
        "colab": {
          "base_uri": "https://localhost:8080/",
          "height": 939
        },
        "outputId": "a2e6b4de-a23a-432c-cfec-5df670da1223"
      },
      "outputs": [
        {
          "output_type": "stream",
          "name": "stdout",
          "text": [
            "\u001b[1m1/1\u001b[0m \u001b[32m━━━━━━━━━━━━━━━━━━━━\u001b[0m\u001b[37m\u001b[0m \u001b[1m2s\u001b[0m 2s/step\n"
          ]
        },
        {
          "output_type": "display_data",
          "data": {
            "text/plain": [
              "<Figure size 640x480 with 1 Axes>"
            ],
            "image/png": "[encoded data removed]"
          },
          "metadata": {}
        },
        {
          "output_type": "display_data",
          "data": {
            "text/plain": [
              "<Figure size 640x480 with 1 Axes>"
            ],
            "image/png": "[encoded data removed]"
          },
          "metadata": {}
        },
        {
          "output_type": "stream",
          "name": "stdout",
          "text": [
            "IoU Score: 0.9596108688359611\n",
            "Dice Coefficient: 0.9793892084360449\n"
          ]
        }
      ],
      "source": [
        "import numpy as np\n",
        "import matplotlib.pyplot as plt\n",
        "from tensorflow.keras.models import load_model\n",
        "import random\n",
        "import glob\n",
        "\n",
        "# A legjobb modell betöltése\n",
        "best_model = load_model('/content/drive/MyDrive/szakdoga/modellek/valtozo_szuroszam.keras')\n",
        "\n",
        "# Batch fájlok mintája\n",
        "test_images_pattern = \"/content/drive/MyDrive/szakdoga/test_images_batch_*.npy\"\n",
        "test_masks_pattern = \"/content/drive/MyDrive/szakdoga/test_masks_batch_*.npy\"\n",
        "\n",
        "# Összes batch fájl száma\n",
        "test_image_files = sorted(glob.glob(test_images_pattern), key=lambda x: int(x.split('_')[-1].split('.')[0]))\n",
        "test_mask_files = sorted(glob.glob(test_masks_pattern), key=lambda x: int(x.split('_')[-1].split('.')[0]))\n",
        "\n",
        "total_batches = len(test_image_files)\n",
        "\n",
        "# Véletlenszerű batch fájl kiválasztása\n",
        "random_batch_index = random.randint(0, total_batches - 1)\n",
        "random_image_file = f\"/content/drive/MyDrive/szakdoga/test_images_batch_{random_batch_index}.npy\"\n",
        "random_mask_file = f\"/content/drive/MyDrive/szakdoga/test_masks_batch_{random_batch_index}.npy\"\n",
        "\n",
        "# Batch fájlok betöltése\n",
        "test_images = np.load(random_image_file)\n",
        "test_masks = np.load(random_mask_file)\n",
        "\n",
        "# Véletlenszerű kép kiválasztása a batch-ből\n",
        "random_image_index = random.randint(0, len(test_images) - 1)\n",
        "selected_image = test_images[random_image_index:random_image_index + 1]  # Batch formátumban a modellhez\n",
        "selected_mask = test_masks[random_image_index]  # Eredeti maszk\n",
        "\n",
        "# Előrejelzés az adott képre\n",
        "predictions = best_model.predict(selected_image)  # Egyetlen mintát küldünk a modellnek\n",
        "predicted_mask = np.argmax(predictions[0], axis=-1)  # Argmax az osztályokra\n",
        "\n",
        "# Megjelenítés az előrejelzett maszkról\n",
        "plt.imshow(predicted_mask, cmap='gray')\n",
        "plt.title('Predicted Mask')\n",
        "\n",
        "# A valós maszk egycsatornás formára konvertálása\n",
        "ground_truth_mask = np.argmax(selected_mask, axis=-1)\n",
        "\n",
        "# Megjelenítés a valósághű maszkról\n",
        "plt.figure()\n",
        "plt.imshow(ground_truth_mask, cmap='gray')\n",
        "plt.title('Ground Truth Mask')\n",
        "\n",
        "plt.show()\n",
        "\n",
        "# Metrikák számítása\n",
        "def iou_score(y_true, y_pred):\n",
        "    intersection = np.logical_and(y_true, y_pred)\n",
        "    union = np.logical_or(y_true, y_pred)\n",
        "    return np.sum(intersection) / np.sum(union)\n",
        "\n",
        "def dice_coefficient(y_true, y_pred):\n",
        "    intersection = np.sum(y_true * y_pred)\n",
        "    return (2. * intersection) / (np.sum(y_true) + np.sum(y_pred))\n",
        "\n",
        "print(\"IoU Score:\", iou_score(ground_truth_mask, predicted_mask))\n",
        "print(\"Dice Coefficient:\", dice_coefficient(ground_truth_mask, predicted_mask))\n"
      ]
    },
    {
      "cell_type": "code",
      "execution_count": null,
      "metadata": {
        "id": "cZGo-YqsLHyB"
      },
      "outputs": [],
      "source": []
    },
    {
      "cell_type": "code",
      "execution_count": null,
      "metadata": {
        "id": "8roc-aLSLHv4"
      },
      "outputs": [],
      "source": []
    },
    {
      "cell_type": "code",
      "execution_count": null,
      "metadata": {
        "id": "4nMNZMdfLHtl"
      },
      "outputs": [],
      "source": []
    },
    {
      "cell_type": "code",
      "execution_count": null,
      "metadata": {
        "id": "Oxu7805ELHrc"
      },
      "outputs": [],
      "source": []
    },
    {
      "cell_type": "code",
      "execution_count": null,
      "metadata": {
        "id": "rF99n_jOzOO_"
      },
      "outputs": [],
      "source": []
    }
  ],
  "metadata": {
    "accelerator": "GPU",
    "colab": {
      "gpuType": "T4",
      "provenance": []
    },
    "kernelspec": {
      "display_name": "Python 3",
      "name": "python3"
    },
    "language_info": {
      "name": "python"
    }
  },
  "nbformat": 4,
  "nbformat_minor": 0
}