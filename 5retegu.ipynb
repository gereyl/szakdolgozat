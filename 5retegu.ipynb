{
  "cells": [
    {
      "cell_type": "code",
      "execution_count": null,
      "metadata": {
        "id": "EFD67G9z2bQh"
      },
      "outputs": [],
      "source": [
        "import os\n",
        "import cv2\n",
        "from google.colab.patches import cv2_imshow\n",
        "import os\n",
        "import sys\n",
        "import random\n",
        "import warnings\n",
        "\n",
        "import numpy as np\n",
        "\n",
        "import matplotlib.pyplot as plt\n",
        "\n",
        "from tqdm import tqdm\n",
        "\n",
        "import tensorflow as tf\n",
        "\n",
        "import tensorflow as tf\n",
        "import cv2\n",
        "import numpy\n",
        "import gc\n",
        "import keras\n",
        "\n",
        "import matplotlib.pyplot as plt\n",
        "\n",
        "import tensorflow as tf\n",
        "import math\n",
        "\n",
        "tfk = tf.keras\n",
        "tfkl = tfk.layers\n",
        "tfm = tf.math\n",
        "tfkc = tfk.callbacks"
      ]
    },
    {
      "cell_type": "code",
      "execution_count": null,
      "metadata": {
        "colab": {
          "base_uri": "https://localhost:8080/"
        },
        "id": "54YVJrlfaJGV",
        "outputId": "9e139f31-3850-4c50-81a4-675d2c705da7"
      },
      "outputs": [
        {
          "output_type": "stream",
          "name": "stdout",
          "text": [
            "Mounted at /content/drive\n"
          ]
        }
      ],
      "source": [
        "from google.colab import drive\n",
        "\n",
        "drive.mount('/content/drive')\n"
      ]
    },
    {
      "cell_type": "markdown",
      "source": [
        "**Előfeldolgozás Kezdete**"
      ],
      "metadata": {
        "id": "EBBoGL1A3AiD"
      }
    },
    {
      "cell_type": "code",
      "source": [
        "import tensorflow as tf\n",
        "import numpy as np\n",
        "import os\n",
        "from tensorflow.keras.preprocessing.image import load_img, img_to_array\n",
        "\n",
        "class ImageSegmentationGenerator(tf.keras.utils.Sequence):\n",
        "    def __init__(self, base_folder, batch_size, image_size, augmentations=None):\n",
        "        \"\"\"\n",
        "        Args:\n",
        "            base_folder (str): Path to the base folder containing subfolders with images and masks.\n",
        "            batch_size (int): Number of samples per batch.\n",
        "            image_size (tuple): Target size for resizing images (height, width).\n",
        "            augmentations (callable): Optional augmentation function for images and masks.\n",
        "        \"\"\"\n",
        "        self.base_folder = base_folder\n",
        "        self.batch_size = batch_size\n",
        "        self.image_size = image_size\n",
        "        self.augmentations = augmentations\n",
        "        self.image_paths, self.mask_paths = self._load_paths()\n",
        "        self.on_epoch_end()\n",
        "\n",
        "    def _load_paths(self):\n",
        "        \"\"\"\n",
        "        Traverse the base folder and collect paths for images and masks.\n",
        "        Returns:\n",
        "            list: List of image paths.\n",
        "            list: List of mask paths.\n",
        "        \"\"\"\n",
        "        image_paths = []\n",
        "        mask_paths = []\n",
        "\n",
        "        subfolders = [folder for folder in os.listdir(self.base_folder) if os.path.isdir(os.path.join(self.base_folder, folder))]\n",
        "\n",
        "        for subfolder in subfolders:\n",
        "            images_folder = os.path.join(self.base_folder, subfolder, 'images')\n",
        "            masks_folder = os.path.join(self.base_folder, subfolder, 'ground_truth')\n",
        "\n",
        "            # Collect sorted file lists to ensure images and masks align\n",
        "            image_files = sorted(os.listdir(images_folder))\n",
        "            mask_files = sorted(os.listdir(masks_folder))\n",
        "\n",
        "            for img_file, mask_file in zip(image_files, mask_files):\n",
        "                image_paths.append(os.path.join(images_folder, img_file))\n",
        "                mask_paths.append(os.path.join(masks_folder, mask_file))\n",
        "\n",
        "        return image_paths, mask_paths\n",
        "\n",
        "    def __len__(self):\n",
        "        # Number of batches per epoch\n",
        "        return int(np.ceil(len(self.image_paths) / self.batch_size))\n",
        "\n",
        "    def __getitem__(self, index):\n",
        "        # Get batch indexes\n",
        "        start_idx = index * self.batch_size\n",
        "        end_idx = (index + 1) * self.batch_size\n",
        "        batch_image_paths = self.image_paths[start_idx:end_idx]\n",
        "        batch_mask_paths = self.mask_paths[start_idx:end_idx]\n",
        "\n",
        "        # Load and preprocess images and masks\n",
        "        images, masks = self._load_data(batch_image_paths, batch_mask_paths)\n",
        "\n",
        "        return images, masks\n",
        "\n",
        "    def on_epoch_end(self):\n",
        "        # Shuffle data at the end of each epoch\n",
        "        temp = list(zip(self.image_paths, self.mask_paths))\n",
        "        np.random.shuffle(temp)\n",
        "        self.image_paths, self.mask_paths = zip(*temp)\n",
        "\n",
        "    def _load_data(self, batch_image_paths, batch_mask_paths):\n",
        "        images = []\n",
        "        masks = []\n",
        "\n",
        "        for img_path, mask_path in zip(batch_image_paths, batch_mask_paths):\n",
        "            # Load image and mask\n",
        "            img = load_img(img_path, target_size=self.image_size)\n",
        "            mask = load_img(mask_path, target_size=self.image_size, color_mode='grayscale')\n",
        "\n",
        "            # Convert to arrays\n",
        "            img = img_to_array(img) #/ 255.0  # Normalize image\n",
        "\n",
        "             # Maszk betöltése és binárissá alakítása\n",
        "            mask = load_img(mask_path, target_size=self.image_size, color_mode='grayscale')\n",
        "            mask = img_to_array(mask)\n",
        "            mask = (mask > 0).astype(int)  # Binárissá alakítás: 0 vagy 1\n",
        "\n",
        "            # Apply augmentations if provided\n",
        "             #if self.augmentations:\n",
        "               # augmented = self.augmentations(image=img, mask=mask)\n",
        "               # img = augmented['image']\n",
        "               # mask = augmented['mask']\n",
        "\n",
        "            images.append(img)\n",
        "            masks.append(mask)\n",
        "\n",
        "        # Convert to numpy arrays\n",
        "        return np.array(images), np.array(masks)\n",
        "\n",
        "# Példa használat\n",
        "base_folder = '/content/drive/MyDrive/szakdoga/Synthetic_MICCAI2020_dataset'\n",
        "image_size = (538, 701)  # Képek átméretezése 128x128-ra\n",
        "batch_size = 32\n",
        "\n",
        "# Inicializálás a mappák automatikus bejárásával\n",
        "generator = ImageSegmentationGenerator(base_folder, batch_size, image_size)\n"
      ],
      "metadata": {
        "id": "8NVdtr8F2_jj"
      },
      "execution_count": null,
      "outputs": []
    },
    {
      "cell_type": "code",
      "source": [
        "import matplotlib.pyplot as plt\n",
        "import random\n",
        "from tensorflow.keras.preprocessing.image import load_img, img_to_array\n",
        "\n",
        "def plot_random_images(generator, num_images=5):\n",
        "    \"\"\"\n",
        "    Kirajzol véletlenszerű képeket és a hozzájuk tartozó maszkokat az adatgenerátorból.\n",
        "\n",
        "    Args:\n",
        "        generator (ImageSegmentationGenerator): Az adatgenerátor példánya.\n",
        "        num_images (int): Hány képet szeretnénk kirajzolni.\n",
        "    \"\"\"\n",
        "    # Ellenőrizzük, hogy elég képpel rendelkezünk-e\n",
        "    if len(generator.image_paths) < num_images:\n",
        "        raise ValueError(\"Nem elég kép a generátorban a megadott számú véletlenszerű kép kiválasztásához.\")\n",
        "\n",
        "    # Véletlenszerű indexek kiválasztása\n",
        "    indices = random.sample(range(len(generator.image_paths)), num_images)\n",
        "\n",
        "    # Képek és maszkok betöltése az indexek alapján\n",
        "    images = []\n",
        "    masks = []\n",
        "    for idx in indices:\n",
        "        img_path = generator.image_paths[idx]\n",
        "        mask_path = generator.mask_paths[idx]\n",
        "\n",
        "        img = load_img(img_path, target_size=generator.image_size)\n",
        "        mask = load_img(mask_path, target_size=generator.image_size, color_mode='grayscale')\n",
        "\n",
        "        images.append(img_to_array(img) / 255.0)  # Normalizált kép\n",
        "        masks.append(img_to_array(mask) / 255.0)  # Normalizált maszk\n",
        "\n",
        "    # Kirajzolás\n",
        "    fig, axes = plt.subplots(num_images, 2, figsize=(10, num_images * 3))\n",
        "    for i in range(num_images):\n",
        "        # Kép\n",
        "        axes[i, 0].imshow(images[i])\n",
        "        axes[i, 0].axis('off')\n",
        "        axes[i, 0].set_title(f\"Kép {indices[i]}\")\n",
        "\n",
        "        # Maszk\n",
        "        axes[i, 1].imshow(masks[i].squeeze(), cmap='gray')\n",
        "        axes[i, 1].axis('off')\n",
        "        axes[i, 1].set_title(f\"Maszk {indices[i]}\")\n",
        "\n",
        "    plt.tight_layout()\n",
        "    plt.show()\n",
        "\n",
        "\n",
        "# Véletlenszerű képek kirajzolása a generátorból\n",
        "plot_random_images(generator, num_images=5)\n"
      ],
      "metadata": {
        "id": "95gIMvrk2_hS"
      },
      "execution_count": null,
      "outputs": []
    },
    {
      "cell_type": "code",
      "source": [
        "#uj spliteles\n",
        "\n",
        "import numpy as np\n",
        "from sklearn.model_selection import train_test_split\n",
        "\n",
        "def split_data(images, masks, test_size=0.2):\n",
        "\n",
        "    from sklearn.model_selection import train_test_split\n",
        "    return train_test_split(images, masks, test_size=test_size)\n",
        "\n",
        "    # Adatok betöltése a generátorból\n",
        "    images = []\n",
        "    masks = []\n",
        "\n",
        "    for i in range(len(generator)):\n",
        "        batch_images, batch_masks = generator[i]\n",
        "        images.append(batch_images)\n",
        "        masks.append(batch_masks)\n",
        "\n",
        "    # Összefűzzük a batch-eket egyetlen tömbbé\n",
        "    images = np.concatenate(images, axis=0)\n",
        "    masks = np.concatenate(masks, axis=0)\n",
        "\n",
        "    # Az extra dimenzió eltávolítása a maszkokról\n",
        "    masks = np.squeeze(masks, axis=-1)\n",
        "\n",
        "    print(f\"Beolvasott képek mérete: {images.shape}\")\n",
        "    print(f\"Beolvasott maszkok mérete: {masks.shape}\")\n",
        "\n",
        "    # Train-test split\n",
        "    X_train, X_test, Y_train, Y_test = train_test_split(\n",
        "        images, masks, test_size=test_size, random_state=random_state\n",
        "    )\n",
        "\n",
        "    return X_train, X_test, Y_train, Y_test\n",
        "\n",
        "# Splitelés meghívása\n",
        "#X_train, X_test, Y_train, Y_test = split_data(generator, test_size=0.2)\n",
        "#print(\"Adathalmaz felosztva:\")\n",
        "#print(f\"X_train mérete: {X_train.shape}, Y_train mérete: {Y_train.shape}\")\n",
        "#print(f\"X_test mérete: {X_test.shape}, Y_test mérete: {Y_test.shape}\")\n"
      ],
      "metadata": {
        "id": "yzoYAmCs2_fH"
      },
      "execution_count": null,
      "outputs": []
    },
    {
      "cell_type": "code",
      "source": [
        "#kepek mentese\n",
        "\n",
        "def save_images(X_train, X_test, output_path):\n",
        "    \"\"\"\n",
        "    Elmenti a képeket .npy formátumba.\n",
        "\n",
        "    Args:\n",
        "        X_train, X_test (np.array): A felosztott képek.\n",
        "        output_path (str): Az elérési út, ahova a fájlokat mentjük.\n",
        "    \"\"\"\n",
        "    if not os.path.exists(output_path):\n",
        "        os.makedirs(output_path)\n",
        "\n",
        "    for split_name, data in zip([\"X_train\", \"X_test\"], [X_train, X_test]):\n",
        "        print(f\"Képek mentése: {split_name}\")\n",
        "        file_path = os.path.join(output_path, f\"{split_name}.npy\")\n",
        "        np.save(file_path, data)\n",
        "        print(f\"{split_name} mentve: {file_path}\")\n",
        "\n",
        "        # GC hívása az aktuális ciklus után\n",
        "        del data\n",
        "        gc.collect()\n",
        "\n",
        "    # GC hívása az egész függvény végén\n",
        "    gc.collect()\n"
      ],
      "metadata": {
        "id": "ij6dzyI72_dQ"
      },
      "execution_count": null,
      "outputs": []
    },
    {
      "cell_type": "code",
      "source": [
        "import os\n",
        "import gc  # Garbage Collector importálása\n",
        "\n",
        "def encode_and_save_masks(Y_train, Y_test, output_path, num_classes=2):\n",
        "    \"\"\"\n",
        "    One-hot encodeolja a maszkokat és elmenti azokat.\n",
        "\n",
        "    Args:\n",
        "        Y_train, Y_test (np.array): A felosztott maszkok.\n",
        "        output_path (str): Az elérési út, ahova a fájlokat mentjük.\n",
        "        num_classes (int): Az osztályok száma.\n",
        "    \"\"\"\n",
        "    if not os.path.exists(output_path):\n",
        "        os.makedirs(output_path)\n",
        "\n",
        "    # One-hot encode a maszkokon\n",
        "    for split_name, data in zip([\"Y_train\", \"Y_test\"], [Y_train, Y_test]):\n",
        "        print(f\"One-hot encode fut: {split_name}\")\n",
        "        data = np.eye(num_classes)[data.astype(int)]  # One-hot encode\n",
        "        data = data.reshape(data.shape[:-1] + (num_classes,))  # Alakítjuk\n",
        "\n",
        "        # Mentés\n",
        "        file_path = os.path.join(output_path, f\"{split_name}.npy\")\n",
        "        np.save(file_path, data)\n",
        "        print(f\"{split_name} mentve: {file_path}\")\n",
        "\n",
        "        # GC hívása az aktuális ciklus után\n",
        "        del data\n",
        "        gc.collect()\n",
        "\n",
        "    # GC hívása az egész függvény végén\n",
        "    gc.collect()\n"
      ],
      "metadata": {
        "id": "-4p9vkrS2_ay"
      },
      "execution_count": null,
      "outputs": []
    },
    {
      "cell_type": "code",
      "source": [
        "# Egy batch betöltése a generátorból\n",
        "batch_images, batch_masks = generator[0]\n",
        "\n",
        "# Alapvető információk kiírása\n",
        "print(f\"Batch képek alakja: {batch_images.shape}\")\n",
        "print(f\"Batch maszkok alakja: {batch_masks.shape}\")\n",
        "print(f\"Batch maszk minimum értéke: {np.min(batch_masks)}\")\n",
        "print(f\"Batch maszk maximum értéke: {np.max(batch_masks)}\")\n"
      ],
      "metadata": {
        "id": "dkj-Px982_Xx"
      },
      "execution_count": null,
      "outputs": []
    },
    {
      "cell_type": "code",
      "source": [
        "import gc\n",
        "import numpy as np\n",
        "import glob\n",
        "import os\n",
        "\n",
        "# Output fájlok elérési útja\n",
        "images_output_path = \"/content/drive/MyDrive/szakdoga\"\n",
        "train_images_file = f\"{images_output_path}/train_images.npy\"\n",
        "test_images_file = f\"{images_output_path}/test_images.npy\"\n",
        "train_masks_file = f\"{images_output_path}/train_masks.npy\"\n",
        "test_masks_file = f\"{images_output_path}/test_masks.npy\"\n",
        "\n",
        "# Batch-ek külön fájlokba mentése\n",
        "for i in range(len(generator)):\n",
        "    batch_images, batch_masks = generator[i]\n",
        "    batch_masks = np.squeeze(batch_masks, axis=-1)\n",
        "    batch_masks_one_hot = np.eye(2, dtype=np.uint8)[batch_masks.astype(int)]\n",
        "\n",
        "    # 80-20 felosztás\n",
        "    split_idx = int(0.8 * len(batch_images))\n",
        "    train_images_batch = batch_images[:split_idx]\n",
        "    test_images_batch = batch_images[split_idx:]\n",
        "    train_masks_batch = batch_masks_one_hot[:split_idx]\n",
        "    test_masks_batch = batch_masks_one_hot[split_idx:]\n",
        "\n",
        "    # Batch-ek külön fájlokba mentése\n",
        "    np.save(f\"{images_output_path}/train_images_batch_{i}.npy\", train_images_batch)\n",
        "    np.save(f\"{images_output_path}/test_images_batch_{i}.npy\", test_images_batch)\n",
        "    np.save(f\"{images_output_path}/train_masks_batch_{i}.npy\", train_masks_batch)\n",
        "    np.save(f\"{images_output_path}/test_masks_batch_{i}.npy\", test_masks_batch)\n",
        "\n",
        "    print(f\"Batch {i} mentve.\")\n",
        "\n",
        "    # Memória felszabadítása\n",
        "    del batch_images, batch_masks, batch_masks_one_hot, train_images_batch, test_images_batch, train_masks_batch, test_masks_batch\n",
        "    gc.collect()\n",
        "\n",
        "\n"
      ],
      "metadata": {
        "id": "BYYmR49s2_Ur"
      },
      "execution_count": null,
      "outputs": []
    },
    {
      "cell_type": "markdown",
      "source": [
        "**Előfeldolgozás vége**"
      ],
      "metadata": {
        "id": "bo9vgX9o3QaV"
      }
    },
    {
      "cell_type": "code",
      "execution_count": null,
      "metadata": {
        "id": "-kakALZAfXL2"
      },
      "outputs": [],
      "source": [
        "from tensorflow.keras.layers import Input, Conv2D, MaxPooling2D, Dropout, UpSampling2D, concatenate, Resizing\n",
        "import tensorflow as tf\n",
        "\n",
        "def unet_deeper(input_size=(538, 701, 3), resize_to=(256, 256)):\n",
        "    \"\"\"\n",
        "    U-Net modell több encoder és decoder blokkal.\n",
        "    \"\"\"\n",
        "    inputs = Input(input_size)\n",
        "\n",
        "    # Átméretezés a feldolgozáshoz (pl. 256x256)\n",
        "    resized_inputs = Resizing(*resize_to)(inputs)\n",
        "\n",
        "    # Encoder rész (megnövelt blokkszám)\n",
        "    conv1 = Conv2D(16, (3, 3), activation='relu', padding='same')(resized_inputs)\n",
        "    conv1 = Conv2D(16, (3, 3), activation='relu', padding='same')(conv1)\n",
        "    pool1 = MaxPooling2D(pool_size=(2, 2))(conv1)\n",
        "\n",
        "    conv2 = Conv2D(32, (3, 3), activation='relu', padding='same')(pool1)\n",
        "    conv2 = Conv2D(32, (3, 3), activation='relu', padding='same')(conv2)\n",
        "    pool2 = MaxPooling2D(pool_size=(2, 2))(conv2)\n",
        "\n",
        "    conv3 = Conv2D(64, (3, 3), activation='relu', padding='same')(pool2)\n",
        "    conv3 = Conv2D(64, (3, 3), activation='relu', padding='same')(conv3)\n",
        "    pool3 = MaxPooling2D(pool_size=(2, 2))(conv3)\n",
        "\n",
        "    conv4 = Conv2D(128, (3, 3), activation='relu', padding='same')(pool3)\n",
        "    conv4 = Conv2D(128, (3, 3), activation='relu', padding='same')(conv4)\n",
        "    pool4 = MaxPooling2D(pool_size=(2, 2))(conv4)\n",
        "\n",
        "    conv5 = Conv2D(256, (3, 3), activation='relu', padding='same')(pool4)\n",
        "    conv5 = Conv2D(256, (3, 3), activation='relu', padding='same')(conv5)\n",
        "    pool5 = MaxPooling2D(pool_size=(2, 2))(conv5)\n",
        "\n",
        "    # Middle rész\n",
        "    conv6 = Conv2D(512, (3, 3), activation='relu', padding='same')(pool5)\n",
        "    conv6 = Conv2D(512, (3, 3), activation='relu', padding='same')(conv6)\n",
        "    drop6 = Dropout(0.5)(conv6)\n",
        "\n",
        "    # Decoder rész (megnövelt blokkszám)\n",
        "    up7 = UpSampling2D(size=(2, 2))(drop6)\n",
        "    up7 = concatenate([up7, conv5], axis=3)\n",
        "    conv7 = Conv2D(256, (3, 3), activation='relu', padding='same')(up7)\n",
        "    conv7 = Conv2D(256, (3, 3), activation='relu', padding='same')(conv7)\n",
        "\n",
        "    up8 = UpSampling2D(size=(2, 2))(conv7)\n",
        "    up8 = concatenate([up8, conv4], axis=3)\n",
        "    conv8 = Conv2D(128, (3, 3), activation='relu', padding='same')(up8)\n",
        "    conv8 = Conv2D(128, (3, 3), activation='relu', padding='same')(up8)\n",
        "\n",
        "    up9 = UpSampling2D(size=(2, 2))(conv8)\n",
        "    up9 = concatenate([up9, conv3], axis=3)\n",
        "    conv9 = Conv2D(64, (3, 3), activation='relu', padding='same')(up9)\n",
        "    conv9 = Conv2D(64, (3, 3), activation='relu', padding='same')(conv9)\n",
        "\n",
        "    up10 = UpSampling2D(size=(2, 2))(conv9)\n",
        "    up10 = concatenate([up10, conv2], axis=3)\n",
        "    conv10 = Conv2D(32, (3, 3), activation='relu', padding='same')(up10)\n",
        "    conv10 = Conv2D(32, (3, 3), activation='relu', padding='same')(conv10)\n",
        "\n",
        "    up11 = UpSampling2D(size=(2, 2))(conv10)\n",
        "    up11 = concatenate([up11, conv1], axis=3)\n",
        "    conv11 = Conv2D(16, (3, 3), activation='relu', padding='same')(up11)\n",
        "    conv11 = Conv2D(16, (3, 3), activation='relu', padding='same')(conv11)\n",
        "\n",
        "    # Utolsó réteg: kimeneti osztályok\n",
        "    outputs = Conv2D(2, (1, 1), activation=\"softmax\", padding=\"same\")(conv11)\n",
        "    resized_outputs = Resizing(input_size[0], input_size[1])(outputs)\n",
        "\n",
        "    # Modell összeállítása\n",
        "    model = tf.keras.Model(inputs=inputs, outputs=resized_outputs)\n",
        "    model.compile(optimizer='adam', loss='categorical_crossentropy', metrics=['accuracy'])\n",
        "\n",
        "    return model\n",
        "\n",
        "# Modell összeállítása a helyes függvénynévvel\n",
        "model = unet_deeper()\n",
        "\n",
        "# Modell összefoglaló (opcionális)\n",
        "#model.summary()\n"
      ]
    },
    {
      "cell_type": "code",
      "execution_count": null,
      "metadata": {
        "id": "S9G-noeTmiue"
      },
      "outputs": [],
      "source": [
        "import glob\n",
        "\n",
        "def data_generator_multiple_files(image_pattern, mask_pattern, batch_size):\n",
        "    \"\"\"\n",
        "    Generátor több batch fájlból történő betöltéshez.\n",
        "\n",
        "    Args:\n",
        "        image_pattern (str): A képfájlok mintája (pl. 'train_images_batch_*.npy').\n",
        "        mask_pattern (str): A maszkfájlok mintája (pl. 'train_masks_batch_*.npy').\n",
        "        batch_size (int): A batch méret.\n",
        "\n",
        "    Yields:\n",
        "        tuple: (képek batch, maszkok batch)\n",
        "    \"\"\"\n",
        "    # Batch fájlok betöltése sorrendben\n",
        "    image_files = sorted(glob.glob(image_pattern), key=lambda x: int(x.split('_')[-1].split('.')[0]))\n",
        "    mask_files = sorted(glob.glob(mask_pattern), key=lambda x: int(x.split('_')[-1].split('.')[0]))\n",
        "\n",
        "    if len(image_files) != len(mask_files):\n",
        "        raise ValueError(\"A képfájlok és maszkfájlok száma nem egyezik meg.\")\n",
        "\n",
        "    while True:  # Végtelen generátor\n",
        "        for image_file, mask_file in zip(image_files, mask_files):\n",
        "            # Fájlok betöltése\n",
        "            images = np.load(image_file, allow_pickle=False)\n",
        "            masks = np.load(mask_file, allow_pickle=False)\n",
        "\n",
        "            # Batch-ekre bontás\n",
        "            for i in range(0, len(images), batch_size):\n",
        "                image_batch = images[i:i + batch_size]\n",
        "                mask_batch = masks[i:i + batch_size]\n",
        "                yield image_batch, mask_batch\n"
      ]
    },
    {
      "cell_type": "code",
      "execution_count": null,
      "metadata": {
        "id": "I-6XyVaTmipc"
      },
      "outputs": [],
      "source": [
        "# Adatfájlok mintázata\n",
        "train_images_pattern = \"/content/drive/MyDrive/szakdoga/train_images_batch_*.npy\"\n",
        "train_masks_pattern = \"/content/drive/MyDrive/szakdoga/train_masks_batch_*.npy\"\n",
        "test_images_pattern = \"/content/drive/MyDrive/szakdoga/test_images_batch_*.npy\"\n",
        "test_masks_pattern = \"/content/drive/MyDrive/szakdoga/test_masks_batch_*.npy\"\n",
        "\n",
        "# Adatgenerátorok inicializálása\n",
        "train_gen = data_generator_multiple_files(train_images_pattern, train_masks_pattern, batch_size=16)\n",
        "test_gen = data_generator_multiple_files(test_images_pattern, test_masks_pattern, batch_size=16)\n",
        "\n",
        "# A legjobb modell betöltése\n",
        "best_model = load_model('/content/drive/MyDrive/szakdoga/modellek/5retegu.keras')\n",
        "\n",
        "from tensorflow.keras.callbacks import ModelCheckpoint\n",
        "\n",
        "checkpoint = ModelCheckpoint(\n",
        "    filepath=\"/content/drive/MyDrive/szakdoga/modellek/5retegu.keras\",\n",
        "    monitor=\"val_loss\",\n",
        "    verbose=1,\n",
        "    save_best_only=True,\n",
        "    save_weights_only=False,\n",
        "    mode=\"min\"\n",
        ")\n",
        "\n",
        "#ModelCheckpoint callback inicializálása\n",
        "checkpoint = ModelCheckpoint(\n",
        "    filepath=\"/fajl/eleresi/utja\",\n",
        "    monitor=\"val_loss\",\n",
        "    verbose=1,\n",
        "    save_best_only=True,\n",
        "    save_weights_only=False,\n",
        "    mode=\"min\"\n",
        ")\n",
        "\n",
        "from tensorflow.keras.callbacks import EarlyStopping\n",
        "\n",
        "# Early stopping callback inicializálása\n",
        "early_stopping = EarlyStopping(\n",
        "    monitor='val_loss',\n",
        "    patience=5,\n",
        "    restore_best_weights=True\n",
        ")\n",
        "\n",
        "\n",
        "\n",
        "# Train és validation adatok méretének statikus meghatározása\n",
        "train_size = 3264  # Az összes train adat száma\n",
        "val_size = 800     # Az összes validation adat száma\n",
        "\n",
        "# Train és validation adatok méretének meghatározása\n",
        "#train_size = sum(len(np.load(f, allow_pickle=False)) for f in glob.glob(train_images_pattern))\n",
        "#val_size = sum(len(np.load(f, allow_pickle=False)) for f in glob.glob(test_images_pattern))\n"
      ]
    },
    {
      "cell_type": "code",
      "execution_count": null,
      "metadata": {
        "colab": {
          "base_uri": "https://localhost:8080/"
        },
        "id": "R5Jrz-efbluf",
        "outputId": "e39342e3-57c9-4e14-f0d1-b39b256761dc"
      },
      "outputs": [
        {
          "name": "stdout",
          "output_type": "stream",
          "text": [
            "(25, 538, 701, 2)\n"
          ]
        }
      ],
      "source": [
        "import numpy as np\n",
        "import glob\n",
        "\n",
        "# Ellenőrizz egy fájlt\n",
        "test_file = \"/content/drive/MyDrive/szakdoga/train_masks_batch_0.npy\"\n",
        "data = np.load(test_file, allow_pickle=False)\n",
        "print(data.shape)\n"
      ]
    },
    {
      "cell_type": "code",
      "execution_count": null,
      "metadata": {
        "colab": {
          "base_uri": "https://localhost:8080/"
        },
        "id": "qqO35y-UmijB",
        "outputId": "e5f72122-4a5f-4856-c188-f5b587675cf4"
      },
      "outputs": [
        {
          "output_type": "stream",
          "name": "stdout",
          "text": [
            "Epoch 1/100\n",
            "\u001b[1m102/102\u001b[0m \u001b[32m━━━━━━━━━━━━━━━━━━━━\u001b[0m\u001b[37m\u001b[0m \u001b[1m0s\u001b[0m 13s/step - accuracy: 0.8567 - loss: 0.6264 \n",
            "Epoch 1: val_loss improved from inf to 0.04078, saving model to /content/drive/MyDrive/szakdoga/modellek/5retegu.keras\n",
            "\u001b[1m102/102\u001b[0m \u001b[32m━━━━━━━━━━━━━━━━━━━━\u001b[0m\u001b[37m\u001b[0m \u001b[1m1445s\u001b[0m 14s/step - accuracy: 0.8574 - loss: 0.6227 - val_accuracy: 0.9852 - val_loss: 0.0408\n",
            "Epoch 2/100\n",
            "\u001b[1m102/102\u001b[0m \u001b[32m━━━━━━━━━━━━━━━━━━━━\u001b[0m\u001b[37m\u001b[0m \u001b[1m0s\u001b[0m 14s/step - accuracy: 0.9854 - loss: 0.0393 \n",
            "Epoch 2: val_loss improved from 0.04078 to 0.02674, saving model to /content/drive/MyDrive/szakdoga/modellek/5retegu.keras\n",
            "\u001b[1m102/102\u001b[0m \u001b[32m━━━━━━━━━━━━━━━━━━━━\u001b[0m\u001b[37m\u001b[0m \u001b[1m1441s\u001b[0m 14s/step - accuracy: 0.9854 - loss: 0.0392 - val_accuracy: 0.9897 - val_loss: 0.0267\n",
            "Epoch 3/100\n",
            "\u001b[1m102/102\u001b[0m \u001b[32m━━━━━━━━━━━━━━━━━━━━\u001b[0m\u001b[37m\u001b[0m \u001b[1m0s\u001b[0m 14s/step - accuracy: 0.9907 - loss: 0.0236 \n",
            "Epoch 3: val_loss improved from 0.02674 to 0.01842, saving model to /content/drive/MyDrive/szakdoga/modellek/5retegu.keras\n",
            "\u001b[1m102/102\u001b[0m \u001b[32m━━━━━━━━━━━━━━━━━━━━\u001b[0m\u001b[37m\u001b[0m \u001b[1m1474s\u001b[0m 14s/step - accuracy: 0.9907 - loss: 0.0236 - val_accuracy: 0.9927 - val_loss: 0.0184\n",
            "Epoch 4/100\n",
            "\u001b[1m102/102\u001b[0m \u001b[32m━━━━━━━━━━━━━━━━━━━━\u001b[0m\u001b[37m\u001b[0m \u001b[1m0s\u001b[0m 14s/step - accuracy: 0.9921 - loss: 0.0196 \n",
            "Epoch 4: val_loss improved from 0.01842 to 0.01561, saving model to /content/drive/MyDrive/szakdoga/modellek/5retegu.keras\n",
            "\u001b[1m102/102\u001b[0m \u001b[32m━━━━━━━━━━━━━━━━━━━━\u001b[0m\u001b[37m\u001b[0m \u001b[1m1468s\u001b[0m 14s/step - accuracy: 0.9921 - loss: 0.0196 - val_accuracy: 0.9935 - val_loss: 0.0156\n",
            "Epoch 5/100\n",
            "\u001b[1m102/102\u001b[0m \u001b[32m━━━━━━━━━━━━━━━━━━━━\u001b[0m\u001b[37m\u001b[0m \u001b[1m0s\u001b[0m 14s/step - accuracy: 0.9937 - loss: 0.0154 \n",
            "Epoch 5: val_loss improved from 0.01561 to 0.01369, saving model to /content/drive/MyDrive/szakdoga/modellek/5retegu.keras\n",
            "\u001b[1m102/102\u001b[0m \u001b[32m━━━━━━━━━━━━━━━━━━━━\u001b[0m\u001b[37m\u001b[0m \u001b[1m1466s\u001b[0m 14s/step - accuracy: 0.9937 - loss: 0.0154 - val_accuracy: 0.9944 - val_loss: 0.0137\n",
            "Epoch 6/100\n",
            "\u001b[1m102/102\u001b[0m \u001b[32m━━━━━━━━━━━━━━━━━━━━\u001b[0m\u001b[37m\u001b[0m \u001b[1m0s\u001b[0m 14s/step - accuracy: 0.9942 - loss: 0.0140 \n",
            "Epoch 6: val_loss improved from 0.01369 to 0.01240, saving model to /content/drive/MyDrive/szakdoga/modellek/5retegu.keras\n",
            "\u001b[1m102/102\u001b[0m \u001b[32m━━━━━━━━━━━━━━━━━━━━\u001b[0m\u001b[37m\u001b[0m \u001b[1m1464s\u001b[0m 14s/step - accuracy: 0.9942 - loss: 0.0140 - val_accuracy: 0.9949 - val_loss: 0.0124\n",
            "Epoch 7/100\n",
            "\u001b[1m102/102\u001b[0m \u001b[32m━━━━━━━━━━━━━━━━━━━━\u001b[0m\u001b[37m\u001b[0m \u001b[1m0s\u001b[0m 14s/step - accuracy: 0.9947 - loss: 0.0129 \n",
            "Epoch 7: val_loss did not improve from 0.01240\n",
            "\u001b[1m102/102\u001b[0m \u001b[32m━━━━━━━━━━━━━━━━━━━━\u001b[0m\u001b[37m\u001b[0m \u001b[1m1480s\u001b[0m 14s/step - accuracy: 0.9947 - loss: 0.0129 - val_accuracy: 0.9946 - val_loss: 0.0130\n",
            "Epoch 8/100\n",
            "\u001b[1m102/102\u001b[0m \u001b[32m━━━━━━━━━━━━━━━━━━━━\u001b[0m\u001b[37m\u001b[0m \u001b[1m0s\u001b[0m 14s/step - accuracy: 0.9952 - loss: 0.0115 \n",
            "Epoch 8: val_loss improved from 0.01240 to 0.01189, saving model to /content/drive/MyDrive/szakdoga/modellek/5retegu.keras\n",
            "\u001b[1m102/102\u001b[0m \u001b[32m━━━━━━━━━━━━━━━━━━━━\u001b[0m\u001b[37m\u001b[0m \u001b[1m1483s\u001b[0m 15s/step - accuracy: 0.9952 - loss: 0.0115 - val_accuracy: 0.9951 - val_loss: 0.0119\n",
            "Epoch 9/100\n",
            "\u001b[1m102/102\u001b[0m \u001b[32m━━━━━━━━━━━━━━━━━━━━\u001b[0m\u001b[37m\u001b[0m \u001b[1m0s\u001b[0m 14s/step - accuracy: 0.9954 - loss: 0.0111 \n",
            "Epoch 9: val_loss improved from 0.01189 to 0.01022, saving model to /content/drive/MyDrive/szakdoga/modellek/5retegu.keras\n",
            "\u001b[1m102/102\u001b[0m \u001b[32m━━━━━━━━━━━━━━━━━━━━\u001b[0m\u001b[37m\u001b[0m \u001b[1m1488s\u001b[0m 15s/step - accuracy: 0.9954 - loss: 0.0111 - val_accuracy: 0.9957 - val_loss: 0.0102\n",
            "Epoch 10/100\n",
            "\u001b[1m102/102\u001b[0m \u001b[32m━━━━━━━━━━━━━━━━━━━━\u001b[0m\u001b[37m\u001b[0m \u001b[1m0s\u001b[0m 14s/step - accuracy: 0.9957 - loss: 0.0103 \n",
            "Epoch 10: val_loss improved from 0.01022 to 0.00946, saving model to /content/drive/MyDrive/szakdoga/modellek/5retegu.keras\n",
            "\u001b[1m102/102\u001b[0m \u001b[32m━━━━━━━━━━━━━━━━━━━━\u001b[0m\u001b[37m\u001b[0m \u001b[1m1484s\u001b[0m 15s/step - accuracy: 0.9957 - loss: 0.0103 - val_accuracy: 0.9961 - val_loss: 0.0095\n",
            "Epoch 11/100\n",
            "\u001b[1m102/102\u001b[0m \u001b[32m━━━━━━━━━━━━━━━━━━━━\u001b[0m\u001b[37m\u001b[0m \u001b[1m0s\u001b[0m 14s/step - accuracy: 0.9959 - loss: 0.0099 \n",
            "Epoch 11: val_loss did not improve from 0.00946\n",
            "\u001b[1m102/102\u001b[0m \u001b[32m━━━━━━━━━━━━━━━━━━━━\u001b[0m\u001b[37m\u001b[0m \u001b[1m1481s\u001b[0m 15s/step - accuracy: 0.9959 - loss: 0.0099 - val_accuracy: 0.9960 - val_loss: 0.0097\n",
            "Epoch 12/100\n",
            "\u001b[1m102/102\u001b[0m \u001b[32m━━━━━━━━━━━━━━━━━━━━\u001b[0m\u001b[37m\u001b[0m \u001b[1m0s\u001b[0m 14s/step - accuracy: 0.9961 - loss: 0.0094 \n",
            "Epoch 12: val_loss did not improve from 0.00946\n",
            "\u001b[1m102/102\u001b[0m \u001b[32m━━━━━━━━━━━━━━━━━━━━\u001b[0m\u001b[37m\u001b[0m \u001b[1m1480s\u001b[0m 14s/step - accuracy: 0.9961 - loss: 0.0094 - val_accuracy: 0.9954 - val_loss: 0.0109\n",
            "Epoch 13/100\n",
            "\u001b[1m102/102\u001b[0m \u001b[32m━━━━━━━━━━━━━━━━━━━━\u001b[0m\u001b[37m\u001b[0m \u001b[1m0s\u001b[0m 14s/step - accuracy: 0.9960 - loss: 0.0096 \n",
            "Epoch 13: val_loss did not improve from 0.00946\n",
            "\u001b[1m102/102\u001b[0m \u001b[32m━━━━━━━━━━━━━━━━━━━━\u001b[0m\u001b[37m\u001b[0m \u001b[1m1506s\u001b[0m 15s/step - accuracy: 0.9960 - loss: 0.0096 - val_accuracy: 0.9956 - val_loss: 0.0106\n",
            "Epoch 14/100\n",
            "\u001b[1m102/102\u001b[0m \u001b[32m━━━━━━━━━━━━━━━━━━━━\u001b[0m\u001b[37m\u001b[0m \u001b[1m0s\u001b[0m 14s/step - accuracy: 0.9958 - loss: 0.0101 \n",
            "Epoch 14: val_loss did not improve from 0.00946\n",
            "\u001b[1m102/102\u001b[0m \u001b[32m━━━━━━━━━━━━━━━━━━━━\u001b[0m\u001b[37m\u001b[0m \u001b[1m1478s\u001b[0m 15s/step - accuracy: 0.9958 - loss: 0.0101 - val_accuracy: 0.9957 - val_loss: 0.0105\n",
            "Epoch 15/100\n",
            "\u001b[1m102/102\u001b[0m \u001b[32m━━━━━━━━━━━━━━━━━━━━\u001b[0m\u001b[37m\u001b[0m \u001b[1m0s\u001b[0m 14s/step - accuracy: 0.9961 - loss: 0.0094 \n",
            "Epoch 15: val_loss improved from 0.00946 to 0.00876, saving model to /content/drive/MyDrive/szakdoga/modellek/5retegu.keras\n",
            "\u001b[1m102/102\u001b[0m \u001b[32m━━━━━━━━━━━━━━━━━━━━\u001b[0m\u001b[37m\u001b[0m \u001b[1m1495s\u001b[0m 15s/step - accuracy: 0.9961 - loss: 0.0094 - val_accuracy: 0.9964 - val_loss: 0.0088\n",
            "Epoch 16/100\n",
            "\u001b[1m102/102\u001b[0m \u001b[32m━━━━━━━━━━━━━━━━━━━━\u001b[0m\u001b[37m\u001b[0m \u001b[1m0s\u001b[0m 14s/step - accuracy: 0.9965 - loss: 0.0084 \n",
            "Epoch 16: val_loss improved from 0.00876 to 0.00845, saving model to /content/drive/MyDrive/szakdoga/modellek/5retegu.keras\n",
            "\u001b[1m102/102\u001b[0m \u001b[32m━━━━━━━━━━━━━━━━━━━━\u001b[0m\u001b[37m\u001b[0m \u001b[1m1481s\u001b[0m 15s/step - accuracy: 0.9965 - loss: 0.0084 - val_accuracy: 0.9965 - val_loss: 0.0085\n",
            "Epoch 17/100\n",
            "\u001b[1m102/102\u001b[0m \u001b[32m━━━━━━━━━━━━━━━━━━━━\u001b[0m\u001b[37m\u001b[0m \u001b[1m0s\u001b[0m 14s/step - accuracy: 0.9965 - loss: 0.0085 \n",
            "Epoch 17: val_loss improved from 0.00845 to 0.00824, saving model to /content/drive/MyDrive/szakdoga/modellek/5retegu.keras\n",
            "\u001b[1m102/102\u001b[0m \u001b[32m━━━━━━━━━━━━━━━━━━━━\u001b[0m\u001b[37m\u001b[0m \u001b[1m1498s\u001b[0m 15s/step - accuracy: 0.9965 - loss: 0.0085 - val_accuracy: 0.9966 - val_loss: 0.0082\n",
            "Epoch 18/100\n",
            "\u001b[1m102/102\u001b[0m \u001b[32m━━━━━━━━━━━━━━━━━━━━\u001b[0m\u001b[37m\u001b[0m \u001b[1m0s\u001b[0m 14s/step - accuracy: 0.9968 - loss: 0.0078 \n",
            "Epoch 18: val_loss did not improve from 0.00824\n",
            "\u001b[1m102/102\u001b[0m \u001b[32m━━━━━━━━━━━━━━━━━━━━\u001b[0m\u001b[37m\u001b[0m \u001b[1m1504s\u001b[0m 15s/step - accuracy: 0.9968 - loss: 0.0078 - val_accuracy: 0.9964 - val_loss: 0.0086\n",
            "Epoch 19/100\n",
            "\u001b[1m102/102\u001b[0m \u001b[32m━━━━━━━━━━━━━━━━━━━━\u001b[0m\u001b[37m\u001b[0m \u001b[1m0s\u001b[0m 14s/step - accuracy: 0.9967 - loss: 0.0080 \n",
            "Epoch 19: val_loss improved from 0.00824 to 0.00819, saving model to /content/drive/MyDrive/szakdoga/modellek/5retegu.keras\n",
            "\u001b[1m102/102\u001b[0m \u001b[32m━━━━━━━━━━━━━━━━━━━━\u001b[0m\u001b[37m\u001b[0m \u001b[1m1499s\u001b[0m 15s/step - accuracy: 0.9967 - loss: 0.0080 - val_accuracy: 0.9966 - val_loss: 0.0082\n",
            "Epoch 20/100\n",
            "\u001b[1m102/102\u001b[0m \u001b[32m━━━━━━━━━━━━━━━━━━━━\u001b[0m\u001b[37m\u001b[0m \u001b[1m0s\u001b[0m 14s/step - accuracy: 0.9968 - loss: 0.0077 \n",
            "Epoch 20: val_loss improved from 0.00819 to 0.00799, saving model to /content/drive/MyDrive/szakdoga/modellek/5retegu.keras\n",
            "\u001b[1m102/102\u001b[0m \u001b[32m━━━━━━━━━━━━━━━━━━━━\u001b[0m\u001b[37m\u001b[0m \u001b[1m1466s\u001b[0m 14s/step - accuracy: 0.9968 - loss: 0.0077 - val_accuracy: 0.9967 - val_loss: 0.0080\n",
            "Epoch 21/100\n",
            "\u001b[1m102/102\u001b[0m \u001b[32m━━━━━━━━━━━━━━━━━━━━\u001b[0m\u001b[37m\u001b[0m \u001b[1m0s\u001b[0m 14s/step - accuracy: 0.9970 - loss: 0.0074 \n",
            "Epoch 21: val_loss did not improve from 0.00799\n",
            "\u001b[1m102/102\u001b[0m \u001b[32m━━━━━━━━━━━━━━━━━━━━\u001b[0m\u001b[37m\u001b[0m \u001b[1m1454s\u001b[0m 14s/step - accuracy: 0.9970 - loss: 0.0074 - val_accuracy: 0.9965 - val_loss: 0.0084\n",
            "Epoch 22/100\n",
            "\u001b[1m102/102\u001b[0m \u001b[32m━━━━━━━━━━━━━━━━━━━━\u001b[0m\u001b[37m\u001b[0m \u001b[1m0s\u001b[0m 14s/step - accuracy: 0.9968 - loss: 0.0077 \n",
            "Epoch 22: val_loss improved from 0.00799 to 0.00760, saving model to /content/drive/MyDrive/szakdoga/modellek/5retegu.keras\n",
            "\u001b[1m102/102\u001b[0m \u001b[32m━━━━━━━━━━━━━━━━━━━━\u001b[0m\u001b[37m\u001b[0m \u001b[1m1483s\u001b[0m 15s/step - accuracy: 0.9968 - loss: 0.0077 - val_accuracy: 0.9969 - val_loss: 0.0076\n",
            "Epoch 23/100\n",
            "\u001b[1m 41/102\u001b[0m \u001b[32m━━━━━━━━\u001b[0m\u001b[37m━━━━━━━━━━━━\u001b[0m \u001b[1m14:14\u001b[0m 14s/step - accuracy: 0.9970 - loss: 0.0072"
          ]
        }
      ],
      "source": [
        "# Tanítás\n",
        "history = model.fit(\n",
        "    train_gen,\n",
        "    steps_per_epoch=train_size // 32,  # Batch-ek száma epochonként\n",
        "    validation_data=test_gen,\n",
        "    validation_steps=val_size // 32,  # Validation batch-ek száma\n",
        "    epochs=100,  # Maximum epochok száma\n",
        "    callbacks=[checkpoint, early_stopping],\n",
        "    verbose=1\n",
        ")\n"
      ]
    },
    {
      "cell_type": "code",
      "execution_count": null,
      "metadata": {
        "id": "eRqXIgO33w0y",
        "colab": {
          "base_uri": "https://localhost:8080/",
          "height": 939
        },
        "outputId": "2c4c0da2-3b45-4018-bba0-69f01efc6025"
      },
      "outputs": [
        {
          "output_type": "stream",
          "name": "stdout",
          "text": [
            "\u001b[1m1/1\u001b[0m \u001b[32m━━━━━━━━━━━━━━━━━━━━\u001b[0m\u001b[37m\u001b[0m \u001b[1m1s\u001b[0m 1s/step\n"
          ]
        },
        {
          "output_type": "display_data",
          "data": {
            "text/plain": [
              "<Figure size 640x480 with 1 Axes>"
            ],
            "image/png": "[encoded data removed]"
          },
          "metadata": {}
        },
        {
          "output_type": "display_data",
          "data": {
            "text/plain": [
              "<Figure size 640x480 with 1 Axes>"
            ],
            "image/png": "[encoded data removed]"
          },
          "metadata": {}
        },
        {
          "output_type": "stream",
          "name": "stdout",
          "text": [
            "IoU Score: 0.9816134522941099\n",
            "Dice Coefficient: 0.9907214256722955\n"
          ]
        }
      ],
      "source": [
        "import numpy as np\n",
        "import matplotlib.pyplot as plt\n",
        "from tensorflow.keras.models import load_model\n",
        "import random\n",
        "import glob\n",
        "\n",
        "# A legjobb modell betöltése\n",
        "best_model = load_model('/content/drive/MyDrive/szakdoga/modellek/5retegu.keras')\n",
        "\n",
        "# Batch fájlok mintája\n",
        "test_images_pattern = \"/content/drive/MyDrive/szakdoga/test_images_batch_*.npy\"\n",
        "test_masks_pattern = \"/content/drive/MyDrive/szakdoga/test_masks_batch_*.npy\"\n",
        "\n",
        "# Összes batch fájl száma\n",
        "test_image_files = sorted(glob.glob(test_images_pattern), key=lambda x: int(x.split('_')[-1].split('.')[0]))\n",
        "test_mask_files = sorted(glob.glob(test_masks_pattern), key=lambda x: int(x.split('_')[-1].split('.')[0]))\n",
        "\n",
        "total_batches = len(test_image_files)\n",
        "\n",
        "# Véletlenszerű batch fájl kiválasztása\n",
        "random_batch_index = random.randint(0, total_batches - 1)\n",
        "random_image_file = f\"/content/drive/MyDrive/szakdoga/test_images_batch_{random_batch_index}.npy\"\n",
        "random_mask_file = f\"/content/drive/MyDrive/szakdoga/test_masks_batch_{random_batch_index}.npy\"\n",
        "\n",
        "# Batch fájlok betöltése\n",
        "test_images = np.load(random_image_file)\n",
        "test_masks = np.load(random_mask_file)\n",
        "\n",
        "# Véletlenszerű kép kiválasztása a batch-ből\n",
        "random_image_index = random.randint(0, len(test_images) - 1)\n",
        "selected_image = test_images[random_image_index:random_image_index + 1]  # Batch formátumban a modellhez\n",
        "selected_mask = test_masks[random_image_index]  # Eredeti maszk\n",
        "\n",
        "# Előrejelzés az adott képre\n",
        "predictions = best_model.predict(selected_image)  # Egyetlen mintát küldünk a modellnek\n",
        "predicted_mask = np.argmax(predictions[0], axis=-1)  # Argmax az osztályokra\n",
        "\n",
        "# Megjelenítés az előrejelzett maszkról\n",
        "plt.imshow(predicted_mask, cmap='gray')\n",
        "plt.title('Predicted Mask')\n",
        "\n",
        "# A valós maszk egycsatornás formára konvertálása\n",
        "ground_truth_mask = np.argmax(selected_mask, axis=-1)\n",
        "\n",
        "# Megjelenítés a valósághű maszkról\n",
        "plt.figure()\n",
        "plt.imshow(ground_truth_mask, cmap='gray')\n",
        "plt.title('Ground Truth Mask')\n",
        "\n",
        "plt.show()\n",
        "\n",
        "# Metrikák számítása\n",
        "def iou_score(y_true, y_pred):\n",
        "    intersection = np.logical_and(y_true, y_pred)\n",
        "    union = np.logical_or(y_true, y_pred)\n",
        "    return np.sum(intersection) / np.sum(union)\n",
        "\n",
        "def dice_coefficient(y_true, y_pred):\n",
        "    intersection = np.sum(y_true * y_pred)\n",
        "    return (2. * intersection) / (np.sum(y_true) + np.sum(y_pred))\n",
        "\n",
        "print(\"IoU Score:\", iou_score(ground_truth_mask, predicted_mask))\n",
        "print(\"Dice Coefficient:\", dice_coefficient(ground_truth_mask, predicted_mask))\n"
      ]
    },
    {
      "cell_type": "markdown",
      "source": [
        "**Alkalamzás létrehozása, futtatása**"
      ],
      "metadata": {
        "id": "0lWPc5Fe3U1q"
      }
    },
    {
      "cell_type": "code",
      "execution_count": null,
      "metadata": {
        "id": "cZGo-YqsLHyB",
        "colab": {
          "base_uri": "https://localhost:8080/"
        },
        "outputId": "f875b5fb-1ea9-48ce-eedd-83b2944b6c56"
      },
      "outputs": [
        {
          "output_type": "stream",
          "name": "stdout",
          "text": [
            "Requirement already satisfied: streamlit in /usr/local/lib/python3.10/dist-packages (1.40.2)\n",
            "Requirement already satisfied: pyngrok in /usr/local/lib/python3.10/dist-packages (7.2.1)\n",
            "Requirement already satisfied: altair<6,>=4.0 in /usr/local/lib/python3.10/dist-packages (from streamlit) (4.2.2)\n",
            "Requirement already satisfied: blinker<2,>=1.0.0 in /usr/local/lib/python3.10/dist-packages (from streamlit) (1.9.0)\n",
            "Requirement already satisfied: cachetools<6,>=4.0 in /usr/local/lib/python3.10/dist-packages (from streamlit) (5.5.0)\n",
            "Requirement already satisfied: click<9,>=7.0 in /usr/local/lib/python3.10/dist-packages (from streamlit) (8.1.7)\n",
            "Requirement already satisfied: numpy<3,>=1.23 in /usr/local/lib/python3.10/dist-packages (from streamlit) (1.26.4)\n",
            "Requirement already satisfied: packaging<25,>=20 in /usr/local/lib/python3.10/dist-packages (from streamlit) (24.2)\n",
            "Requirement already satisfied: pandas<3,>=1.4.0 in /usr/local/lib/python3.10/dist-packages (from streamlit) (2.2.2)\n",
            "Requirement already satisfied: pillow<12,>=7.1.0 in /usr/local/lib/python3.10/dist-packages (from streamlit) (11.0.0)\n",
            "Requirement already satisfied: protobuf<6,>=3.20 in /usr/local/lib/python3.10/dist-packages (from streamlit) (4.25.5)\n",
            "Requirement already satisfied: pyarrow>=7.0 in /usr/local/lib/python3.10/dist-packages (from streamlit) (17.0.0)\n",
            "Requirement already satisfied: requests<3,>=2.27 in /usr/local/lib/python3.10/dist-packages (from streamlit) (2.32.3)\n",
            "Requirement already satisfied: rich<14,>=10.14.0 in /usr/local/lib/python3.10/dist-packages (from streamlit) (13.9.4)\n",
            "Requirement already satisfied: tenacity<10,>=8.1.0 in /usr/local/lib/python3.10/dist-packages (from streamlit) (9.0.0)\n",
            "Requirement already satisfied: toml<2,>=0.10.1 in /usr/local/lib/python3.10/dist-packages (from streamlit) (0.10.2)\n",
            "Requirement already satisfied: typing-extensions<5,>=4.3.0 in /usr/local/lib/python3.10/dist-packages (from streamlit) (4.12.2)\n",
            "Requirement already satisfied: watchdog<7,>=2.1.5 in /usr/local/lib/python3.10/dist-packages (from streamlit) (6.0.0)\n",
            "Requirement already satisfied: gitpython!=3.1.19,<4,>=3.0.7 in /usr/local/lib/python3.10/dist-packages (from streamlit) (3.1.43)\n",
            "Requirement already satisfied: pydeck<1,>=0.8.0b4 in /usr/local/lib/python3.10/dist-packages (from streamlit) (0.9.1)\n",
            "Requirement already satisfied: tornado<7,>=6.0.3 in /usr/local/lib/python3.10/dist-packages (from streamlit) (6.3.3)\n",
            "Requirement already satisfied: PyYAML>=5.1 in /usr/local/lib/python3.10/dist-packages (from pyngrok) (6.0.2)\n",
            "Requirement already satisfied: entrypoints in /usr/local/lib/python3.10/dist-packages (from altair<6,>=4.0->streamlit) (0.4)\n",
            "Requirement already satisfied: jinja2 in /usr/local/lib/python3.10/dist-packages (from altair<6,>=4.0->streamlit) (3.1.4)\n",
            "Requirement already satisfied: jsonschema>=3.0 in /usr/local/lib/python3.10/dist-packages (from altair<6,>=4.0->streamlit) (4.23.0)\n",
            "Requirement already satisfied: toolz in /usr/local/lib/python3.10/dist-packages (from altair<6,>=4.0->streamlit) (0.12.1)\n",
            "Requirement already satisfied: gitdb<5,>=4.0.1 in /usr/local/lib/python3.10/dist-packages (from gitpython!=3.1.19,<4,>=3.0.7->streamlit) (4.0.11)\n",
            "Requirement already satisfied: python-dateutil>=2.8.2 in /usr/local/lib/python3.10/dist-packages (from pandas<3,>=1.4.0->streamlit) (2.8.2)\n",
            "Requirement already satisfied: pytz>=2020.1 in /usr/local/lib/python3.10/dist-packages (from pandas<3,>=1.4.0->streamlit) (2024.2)\n",
            "Requirement already satisfied: tzdata>=2022.7 in /usr/local/lib/python3.10/dist-packages (from pandas<3,>=1.4.0->streamlit) (2024.2)\n",
            "Requirement already satisfied: charset-normalizer<4,>=2 in /usr/local/lib/python3.10/dist-packages (from requests<3,>=2.27->streamlit) (3.4.0)\n",
            "Requirement already satisfied: idna<4,>=2.5 in /usr/local/lib/python3.10/dist-packages (from requests<3,>=2.27->streamlit) (3.10)\n",
            "Requirement already satisfied: urllib3<3,>=1.21.1 in /usr/local/lib/python3.10/dist-packages (from requests<3,>=2.27->streamlit) (2.2.3)\n",
            "Requirement already satisfied: certifi>=2017.4.17 in /usr/local/lib/python3.10/dist-packages (from requests<3,>=2.27->streamlit) (2024.8.30)\n",
            "Requirement already satisfied: markdown-it-py>=2.2.0 in /usr/local/lib/python3.10/dist-packages (from rich<14,>=10.14.0->streamlit) (3.0.0)\n",
            "Requirement already satisfied: pygments<3.0.0,>=2.13.0 in /usr/local/lib/python3.10/dist-packages (from rich<14,>=10.14.0->streamlit) (2.18.0)\n",
            "Requirement already satisfied: smmap<6,>=3.0.1 in /usr/local/lib/python3.10/dist-packages (from gitdb<5,>=4.0.1->gitpython!=3.1.19,<4,>=3.0.7->streamlit) (5.0.1)\n",
            "Requirement already satisfied: MarkupSafe>=2.0 in /usr/local/lib/python3.10/dist-packages (from jinja2->altair<6,>=4.0->streamlit) (3.0.2)\n",
            "Requirement already satisfied: attrs>=22.2.0 in /usr/local/lib/python3.10/dist-packages (from jsonschema>=3.0->altair<6,>=4.0->streamlit) (24.2.0)\n",
            "Requirement already satisfied: jsonschema-specifications>=2023.03.6 in /usr/local/lib/python3.10/dist-packages (from jsonschema>=3.0->altair<6,>=4.0->streamlit) (2024.10.1)\n",
            "Requirement already satisfied: referencing>=0.28.4 in /usr/local/lib/python3.10/dist-packages (from jsonschema>=3.0->altair<6,>=4.0->streamlit) (0.35.1)\n",
            "Requirement already satisfied: rpds-py>=0.7.1 in /usr/local/lib/python3.10/dist-packages (from jsonschema>=3.0->altair<6,>=4.0->streamlit) (0.22.3)\n",
            "Requirement already satisfied: mdurl~=0.1 in /usr/local/lib/python3.10/dist-packages (from markdown-it-py>=2.2.0->rich<14,>=10.14.0->streamlit) (0.1.2)\n",
            "Requirement already satisfied: six>=1.5 in /usr/local/lib/python3.10/dist-packages (from python-dateutil>=2.8.2->pandas<3,>=1.4.0->streamlit) (1.16.0)\n"
          ]
        }
      ],
      "source": [
        "!pip install streamlit pyngrok"
      ]
    },
    {
      "cell_type": "code",
      "execution_count": null,
      "metadata": {
        "id": "8roc-aLSLHv4",
        "colab": {
          "base_uri": "https://localhost:8080/"
        },
        "outputId": "6ea70efa-37e2-4ebd-fc2d-b822cb691264"
      },
      "outputs": [
        {
          "output_type": "stream",
          "name": "stdout",
          "text": [
            "Mounted at /content/drive\n"
          ]
        }
      ],
      "source": [
        "from google.colab import drive\n",
        "\n",
        "drive.mount('/content/drive')\n"
      ]
    },
    {
      "cell_type": "code",
      "execution_count": null,
      "metadata": {
        "id": "Oxu7805ELHrc",
        "colab": {
          "base_uri": "https://localhost:8080/"
        },
        "outputId": "fd4321d3-4426-490b-a06f-d754b3fd58e5"
      },
      "outputs": [
        {
          "output_type": "stream",
          "name": "stdout",
          "text": [
            "Writing app.py\n"
          ]
        }
      ],
      "source": [
        "#nem atmeretezos d elv jo\n",
        "\n",
        "%%writefile app.py\n",
        "import streamlit as st\n",
        "import numpy as np\n",
        "from tensorflow.keras.models import load_model\n",
        "from tensorflow.image import resize\n",
        "import matplotlib.pyplot as plt\n",
        "from PIL import Image\n",
        "\n",
        "\n",
        "\n",
        "# Modell betöltése\n",
        "@st.cache_resource\n",
        "def load_trained_model():\n",
        "    model_path = \"/content/drive/MyDrive/szakdoga/modellek/5retegu.keras\"  # Add meg a saját modell elérési útját\n",
        "    model = load_model(model_path)\n",
        "    return model\n",
        "\n",
        "model = load_trained_model()\n",
        "\n",
        "# Streamlit alkalmazás címe\n",
        "st.title(\"Képszegmentáló Webalkalmazás\")\n",
        "st.write(\"Tölts fel egy képet, és a modell elvégzi a szegmentációt!\")\n",
        "\n",
        "# Kép feltöltése\n",
        "uploaded_file = st.file_uploader(\"Válassz egy képet\", type=[\"jpg\", \"jpeg\", \"png\"])\n",
        "\n",
        "if uploaded_file is not None:\n",
        "    # Feltöltött kép megjelenítése\n",
        "    image = Image.open(uploaded_file)\n",
        "    st.image(image, caption=\"Feltöltött kép\", use_column_width=True)\n",
        "    st.write(\"A kép feldolgozása zajlik...\")\n",
        "\n",
        "    # Kép előkészítése a modellhez\n",
        "    image_array = np.array(image)\n",
        "    input_shape = model.input_shape[1:3]  # Modell elvárt bemeneti mérete\n",
        "    resized_image = resize(image_array, input_shape)  # Átméretezés az elvárt méretre\n",
        "    resized_image = np.expand_dims(resized_image, axis=0)  # Batch dimenzió hozzáadása\n",
        "\n",
        "    # Szegmentáció futtatása\n",
        "    predicted_mask = model.predict(resized_image)\n",
        "    predicted_mask = np.argmax(predicted_mask[0], axis=-1)  # Osztálymaszk\n",
        "\n",
        "    # Szegmentációs eredmény megjelenítése\n",
        "    st.write(\"Szegmentáció eredménye:\")\n",
        "    fig, ax = plt.subplots()\n",
        "    ax.imshow(predicted_mask, cmap=\"gray\")\n",
        "    ax.axis(\"off\")\n",
        "    st.pyplot(fig)\n"
      ]
    },
    {
      "cell_type": "code",
      "execution_count": null,
      "metadata": {
        "id": "rF99n_jOzOO_",
        "colab": {
          "base_uri": "https://localhost:8080/"
        },
        "outputId": "419ce7cb-db77-4a1a-f03d-edb4e3ea0df2"
      },
      "outputs": [
        {
          "output_type": "stream",
          "name": "stdout",
          "text": [
            "Requirement already satisfied: google-colab in /usr/local/lib/python3.10/dist-packages (1.0.0)\n",
            "Requirement already satisfied: google-auth==2.27.0 in /usr/local/lib/python3.10/dist-packages (from google-colab) (2.27.0)\n",
            "Requirement already satisfied: ipykernel==5.5.6 in /usr/local/lib/python3.10/dist-packages (from google-colab) (5.5.6)\n",
            "Requirement already satisfied: ipyparallel==8.8.0 in /usr/local/lib/python3.10/dist-packages (from google-colab) (8.8.0)\n",
            "Requirement already satisfied: ipython==7.34.0 in /usr/local/lib/python3.10/dist-packages (from google-colab) (7.34.0)\n",
            "Requirement already satisfied: notebook==6.5.5 in /usr/local/lib/python3.10/dist-packages (from google-colab) (6.5.5)\n",
            "Requirement already satisfied: pandas==2.2.2 in /usr/local/lib/python3.10/dist-packages (from google-colab) (2.2.2)\n",
            "Requirement already satisfied: portpicker==1.5.2 in /usr/local/lib/python3.10/dist-packages (from google-colab) (1.5.2)\n",
            "Requirement already satisfied: requests==2.32.3 in /usr/local/lib/python3.10/dist-packages (from google-colab) (2.32.3)\n",
            "Requirement already satisfied: tornado==6.3.3 in /usr/local/lib/python3.10/dist-packages (from google-colab) (6.3.3)\n",
            "Requirement already satisfied: cachetools<6.0,>=2.0.0 in /usr/local/lib/python3.10/dist-packages (from google-auth==2.27.0->google-colab) (5.5.0)\n",
            "Requirement already satisfied: pyasn1-modules>=0.2.1 in /usr/local/lib/python3.10/dist-packages (from google-auth==2.27.0->google-colab) (0.4.1)\n",
            "Requirement already satisfied: rsa<5,>=3.1.4 in /usr/local/lib/python3.10/dist-packages (from google-auth==2.27.0->google-colab) (4.9)\n",
            "Requirement already satisfied: ipython-genutils in /usr/local/lib/python3.10/dist-packages (from ipykernel==5.5.6->google-colab) (0.2.0)\n",
            "Requirement already satisfied: traitlets>=4.1.0 in /usr/local/lib/python3.10/dist-packages (from ipykernel==5.5.6->google-colab) (5.7.1)\n",
            "Requirement already satisfied: jupyter-client in /usr/local/lib/python3.10/dist-packages (from ipykernel==5.5.6->google-colab) (6.1.12)\n",
            "Requirement already satisfied: decorator in /usr/local/lib/python3.10/dist-packages (from ipyparallel==8.8.0->google-colab) (4.4.2)\n",
            "Requirement already satisfied: entrypoints in /usr/local/lib/python3.10/dist-packages (from ipyparallel==8.8.0->google-colab) (0.4)\n",
            "Requirement already satisfied: psutil in /usr/local/lib/python3.10/dist-packages (from ipyparallel==8.8.0->google-colab) (5.9.5)\n",
            "Requirement already satisfied: python-dateutil>=2.1 in /usr/local/lib/python3.10/dist-packages (from ipyparallel==8.8.0->google-colab) (2.8.2)\n",
            "Requirement already satisfied: pyzmq>=18 in /usr/local/lib/python3.10/dist-packages (from ipyparallel==8.8.0->google-colab) (24.0.1)\n",
            "Requirement already satisfied: tqdm in /usr/local/lib/python3.10/dist-packages (from ipyparallel==8.8.0->google-colab) (4.66.6)\n",
            "Requirement already satisfied: setuptools>=18.5 in /usr/local/lib/python3.10/dist-packages (from ipython==7.34.0->google-colab) (75.1.0)\n",
            "Collecting jedi>=0.16 (from ipython==7.34.0->google-colab)\n",
            "  Downloading jedi-0.19.2-py2.py3-none-any.whl.metadata (22 kB)\n",
            "Requirement already satisfied: pickleshare in /usr/local/lib/python3.10/dist-packages (from ipython==7.34.0->google-colab) (0.7.5)\n",
            "Requirement already satisfied: prompt-toolkit!=3.0.0,!=3.0.1,<3.1.0,>=2.0.0 in /usr/local/lib/python3.10/dist-packages (from ipython==7.34.0->google-colab) (3.0.48)\n",
            "Requirement already satisfied: pygments in /usr/local/lib/python3.10/dist-packages (from ipython==7.34.0->google-colab) (2.18.0)\n",
            "Requirement already satisfied: backcall in /usr/local/lib/python3.10/dist-packages (from ipython==7.34.0->google-colab) (0.2.0)\n",
            "Requirement already satisfied: matplotlib-inline in /usr/local/lib/python3.10/dist-packages (from ipython==7.34.0->google-colab) (0.1.7)\n",
            "Requirement already satisfied: pexpect>4.3 in /usr/local/lib/python3.10/dist-packages (from ipython==7.34.0->google-colab) (4.9.0)\n",
            "Requirement already satisfied: jinja2 in /usr/local/lib/python3.10/dist-packages (from notebook==6.5.5->google-colab) (3.1.4)\n",
            "Requirement already satisfied: argon2-cffi in /usr/local/lib/python3.10/dist-packages (from notebook==6.5.5->google-colab) (23.1.0)\n",
            "Requirement already satisfied: jupyter-core>=4.6.1 in /usr/local/lib/python3.10/dist-packages (from notebook==6.5.5->google-colab) (5.7.2)\n",
            "Requirement already satisfied: nbformat in /usr/local/lib/python3.10/dist-packages (from notebook==6.5.5->google-colab) (5.10.4)\n",
            "Requirement already satisfied: nbconvert>=5 in /usr/local/lib/python3.10/dist-packages (from notebook==6.5.5->google-colab) (7.16.4)\n",
            "Requirement already satisfied: nest-asyncio>=1.5 in /usr/local/lib/python3.10/dist-packages (from notebook==6.5.5->google-colab) (1.6.0)\n",
            "Requirement already satisfied: Send2Trash>=1.8.0 in /usr/local/lib/python3.10/dist-packages (from notebook==6.5.5->google-colab) (1.8.3)\n",
            "Requirement already satisfied: terminado>=0.8.3 in /usr/local/lib/python3.10/dist-packages (from notebook==6.5.5->google-colab) (0.18.1)\n",
            "Requirement already satisfied: prometheus-client in /usr/local/lib/python3.10/dist-packages (from notebook==6.5.5->google-colab) (0.21.1)\n",
            "Requirement already satisfied: nbclassic>=0.4.7 in /usr/local/lib/python3.10/dist-packages (from notebook==6.5.5->google-colab) (1.1.0)\n",
            "Requirement already satisfied: numpy>=1.22.4 in /usr/local/lib/python3.10/dist-packages (from pandas==2.2.2->google-colab) (1.26.4)\n",
            "Requirement already satisfied: pytz>=2020.1 in /usr/local/lib/python3.10/dist-packages (from pandas==2.2.2->google-colab) (2024.2)\n",
            "Requirement already satisfied: tzdata>=2022.7 in /usr/local/lib/python3.10/dist-packages (from pandas==2.2.2->google-colab) (2024.2)\n",
            "Requirement already satisfied: charset-normalizer<4,>=2 in /usr/local/lib/python3.10/dist-packages (from requests==2.32.3->google-colab) (3.4.0)\n",
            "Requirement already satisfied: idna<4,>=2.5 in /usr/local/lib/python3.10/dist-packages (from requests==2.32.3->google-colab) (3.10)\n",
            "Requirement already satisfied: urllib3<3,>=1.21.1 in /usr/local/lib/python3.10/dist-packages (from requests==2.32.3->google-colab) (2.2.3)\n",
            "Requirement already satisfied: certifi>=2017.4.17 in /usr/local/lib/python3.10/dist-packages (from requests==2.32.3->google-colab) (2024.8.30)\n",
            "Requirement already satisfied: parso<0.9.0,>=0.8.4 in /usr/local/lib/python3.10/dist-packages (from jedi>=0.16->ipython==7.34.0->google-colab) (0.8.4)\n",
            "Requirement already satisfied: platformdirs>=2.5 in /usr/local/lib/python3.10/dist-packages (from jupyter-core>=4.6.1->notebook==6.5.5->google-colab) (4.3.6)\n",
            "Requirement already satisfied: notebook-shim>=0.2.3 in /usr/local/lib/python3.10/dist-packages (from nbclassic>=0.4.7->notebook==6.5.5->google-colab) (0.2.4)\n",
            "Requirement already satisfied: beautifulsoup4 in /usr/local/lib/python3.10/dist-packages (from nbconvert>=5->notebook==6.5.5->google-colab) (4.12.3)\n",
            "Requirement already satisfied: bleach!=5.0.0 in /usr/local/lib/python3.10/dist-packages (from nbconvert>=5->notebook==6.5.5->google-colab) (6.2.0)\n",
            "Requirement already satisfied: defusedxml in /usr/local/lib/python3.10/dist-packages (from nbconvert>=5->notebook==6.5.5->google-colab) (0.7.1)\n",
            "Requirement already satisfied: jupyterlab-pygments in /usr/local/lib/python3.10/dist-packages (from nbconvert>=5->notebook==6.5.5->google-colab) (0.3.0)\n",
            "Requirement already satisfied: markupsafe>=2.0 in /usr/local/lib/python3.10/dist-packages (from nbconvert>=5->notebook==6.5.5->google-colab) (3.0.2)\n",
            "Requirement already satisfied: mistune<4,>=2.0.3 in /usr/local/lib/python3.10/dist-packages (from nbconvert>=5->notebook==6.5.5->google-colab) (3.0.2)\n",
            "Requirement already satisfied: nbclient>=0.5.0 in /usr/local/lib/python3.10/dist-packages (from nbconvert>=5->notebook==6.5.5->google-colab) (0.10.1)\n",
            "Requirement already satisfied: packaging in /usr/local/lib/python3.10/dist-packages (from nbconvert>=5->notebook==6.5.5->google-colab) (24.2)\n",
            "Requirement already satisfied: pandocfilters>=1.4.1 in /usr/local/lib/python3.10/dist-packages (from nbconvert>=5->notebook==6.5.5->google-colab) (1.5.1)\n",
            "Requirement already satisfied: tinycss2 in /usr/local/lib/python3.10/dist-packages (from nbconvert>=5->notebook==6.5.5->google-colab) (1.4.0)\n",
            "Requirement already satisfied: fastjsonschema>=2.15 in /usr/local/lib/python3.10/dist-packages (from nbformat->notebook==6.5.5->google-colab) (2.21.1)\n",
            "Requirement already satisfied: jsonschema>=2.6 in /usr/local/lib/python3.10/dist-packages (from nbformat->notebook==6.5.5->google-colab) (4.23.0)\n",
            "Requirement already satisfied: ptyprocess>=0.5 in /usr/local/lib/python3.10/dist-packages (from pexpect>4.3->ipython==7.34.0->google-colab) (0.7.0)\n",
            "Requirement already satisfied: wcwidth in /usr/local/lib/python3.10/dist-packages (from prompt-toolkit!=3.0.0,!=3.0.1,<3.1.0,>=2.0.0->ipython==7.34.0->google-colab) (0.2.13)\n",
            "Requirement already satisfied: pyasn1<0.7.0,>=0.4.6 in /usr/local/lib/python3.10/dist-packages (from pyasn1-modules>=0.2.1->google-auth==2.27.0->google-colab) (0.6.1)\n",
            "Requirement already satisfied: six>=1.5 in /usr/local/lib/python3.10/dist-packages (from python-dateutil>=2.1->ipyparallel==8.8.0->google-colab) (1.16.0)\n",
            "Requirement already satisfied: argon2-cffi-bindings in /usr/local/lib/python3.10/dist-packages (from argon2-cffi->notebook==6.5.5->google-colab) (21.2.0)\n",
            "Requirement already satisfied: webencodings in /usr/local/lib/python3.10/dist-packages (from bleach!=5.0.0->nbconvert>=5->notebook==6.5.5->google-colab) (0.5.1)\n",
            "Requirement already satisfied: attrs>=22.2.0 in /usr/local/lib/python3.10/dist-packages (from jsonschema>=2.6->nbformat->notebook==6.5.5->google-colab) (24.2.0)\n",
            "Requirement already satisfied: jsonschema-specifications>=2023.03.6 in /usr/local/lib/python3.10/dist-packages (from jsonschema>=2.6->nbformat->notebook==6.5.5->google-colab) (2024.10.1)\n",
            "Requirement already satisfied: referencing>=0.28.4 in /usr/local/lib/python3.10/dist-packages (from jsonschema>=2.6->nbformat->notebook==6.5.5->google-colab) (0.35.1)\n",
            "Requirement already satisfied: rpds-py>=0.7.1 in /usr/local/lib/python3.10/dist-packages (from jsonschema>=2.6->nbformat->notebook==6.5.5->google-colab) (0.22.3)\n",
            "Requirement already satisfied: jupyter-server<3,>=1.8 in /usr/local/lib/python3.10/dist-packages (from notebook-shim>=0.2.3->nbclassic>=0.4.7->notebook==6.5.5->google-colab) (1.24.0)\n",
            "Requirement already satisfied: cffi>=1.0.1 in /usr/local/lib/python3.10/dist-packages (from argon2-cffi-bindings->argon2-cffi->notebook==6.5.5->google-colab) (1.17.1)\n",
            "Requirement already satisfied: soupsieve>1.2 in /usr/local/lib/python3.10/dist-packages (from beautifulsoup4->nbconvert>=5->notebook==6.5.5->google-colab) (2.6)\n",
            "Requirement already satisfied: pycparser in /usr/local/lib/python3.10/dist-packages (from cffi>=1.0.1->argon2-cffi-bindings->argon2-cffi->notebook==6.5.5->google-colab) (2.22)\n",
            "Requirement already satisfied: anyio<4,>=3.1.0 in /usr/local/lib/python3.10/dist-packages (from jupyter-server<3,>=1.8->notebook-shim>=0.2.3->nbclassic>=0.4.7->notebook==6.5.5->google-colab) (3.7.1)\n",
            "Requirement already satisfied: websocket-client in /usr/local/lib/python3.10/dist-packages (from jupyter-server<3,>=1.8->notebook-shim>=0.2.3->nbclassic>=0.4.7->notebook==6.5.5->google-colab) (1.8.0)\n",
            "Requirement already satisfied: sniffio>=1.1 in /usr/local/lib/python3.10/dist-packages (from anyio<4,>=3.1.0->jupyter-server<3,>=1.8->notebook-shim>=0.2.3->nbclassic>=0.4.7->notebook==6.5.5->google-colab) (1.3.1)\n",
            "Requirement already satisfied: exceptiongroup in /usr/local/lib/python3.10/dist-packages (from anyio<4,>=3.1.0->jupyter-server<3,>=1.8->notebook-shim>=0.2.3->nbclassic>=0.4.7->notebook==6.5.5->google-colab) (1.2.2)\n",
            "Downloading jedi-0.19.2-py2.py3-none-any.whl (1.6 MB)\n",
            "\u001b[2K   \u001b[90m━━━━━━━━━━━━━━━━━━━━━━━━━━━━━━━━━━━━━━━━\u001b[0m \u001b[32m1.6/1.6 MB\u001b[0m \u001b[31m15.9 MB/s\u001b[0m eta \u001b[36m0:00:00\u001b[0m\n",
            "\u001b[?25hInstalling collected packages: jedi\n",
            "Successfully installed jedi-0.19.2\n"
          ]
        }
      ],
      "source": [
        "!pip install --upgrade google-colab"
      ]
    },
    {
      "cell_type": "code",
      "source": [
        "!ngrok authtoken 2QqRniu0gBm6NqLIOZOPobUrQSk_6MR9jYBFsYK3jC1SXhNnW"
      ],
      "metadata": {
        "colab": {
          "base_uri": "https://localhost:8080/"
        },
        "id": "lvoeyz1E3sLt",
        "outputId": "7e0b36bd-5eda-4369-ce32-e93714b29115"
      },
      "execution_count": null,
      "outputs": [
        {
          "output_type": "stream",
          "name": "stdout",
          "text": [
            "Authtoken saved to configuration file: /root/.config/ngrok/ngrok.yml\n"
          ]
        }
      ]
    },
    {
      "cell_type": "code",
      "source": [
        "from pyngrok import ngrok\n",
        "\n",
        "# Minden alagút bezárása\n",
        "ngrok.kill()\n"
      ],
      "metadata": {
        "id": "GKgtJIhp-76o"
      },
      "execution_count": null,
      "outputs": []
    },
    {
      "cell_type": "code",
      "source": [
        "!streamlit run app.py --server.port 8501 &> /dev/null &\n"
      ],
      "metadata": {
        "id": "8TolIuEgBRcI"
      },
      "execution_count": null,
      "outputs": []
    },
    {
      "cell_type": "code",
      "source": [
        "!rm -f app.py\n"
      ],
      "metadata": {
        "id": "DVFAQ9v8BX4z"
      },
      "execution_count": null,
      "outputs": []
    },
    {
      "cell_type": "code",
      "source": [
        "!ls\n"
      ],
      "metadata": {
        "colab": {
          "base_uri": "https://localhost:8080/"
        },
        "id": "zAf5v0TzBeYi",
        "outputId": "c60ef242-2b3d-4736-b181-0831640c5725"
      },
      "execution_count": null,
      "outputs": [
        {
          "output_type": "stream",
          "name": "stdout",
          "text": [
            "app.py\tdrive  sample_data\n"
          ]
        }
      ]
    },
    {
      "cell_type": "code",
      "source": [
        "import subprocess\n",
        "from pyngrok import ngrok\n",
        "\n",
        "#ngrok.kill()\n",
        "\n",
        "# Streamlit alkalmazás futtatása\n",
        "process = subprocess.Popen(['streamlit', 'run', 'app.py', '--server.port', '8501'])\n",
        "\n",
        "# Ngrok alagút létrehozása\n",
        "public_url = ngrok.connect(\"http://localhost:8501\")\n",
        "print(f\"Nyilvános URL: {public_url}\")"
      ],
      "metadata": {
        "colab": {
          "base_uri": "https://localhost:8080/"
        },
        "id": "OmkuUS663sJW",
        "outputId": "ba7f53ca-e358-4e1b-9cf5-e58bf6d2e333"
      },
      "execution_count": null,
      "outputs": [
        {
          "output_type": "stream",
          "name": "stdout",
          "text": [
            "Nyilvános URL: NgrokTunnel: \"https://fdc7-35-221-170-119.ngrok-free.app\" -> \"http://localhost:8501\"\n"
          ]
        }
      ]
    }
  ],
  "metadata": {
    "accelerator": "GPU",
    "colab": {
      "gpuType": "T4",
      "provenance": []
    },
    "kernelspec": {
      "display_name": "Python 3",
      "name": "python3"
    },
    "language_info": {
      "name": "python"
    }
  },
  "nbformat": 4,
  "nbformat_minor": 0
}